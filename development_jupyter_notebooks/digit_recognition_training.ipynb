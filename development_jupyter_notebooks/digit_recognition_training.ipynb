{
 "cells": [
  {
   "cell_type": "code",
   "execution_count": 27,
   "id": "b7394ef9-6ba0-466c-bd68-a47f4eb0819f",
   "metadata": {},
   "outputs": [],
   "source": [
    "import os\n",
    "import tensorflow as tf\n",
    "from tensorflow import keras\n",
    "import matplotlib.pyplot as plt \n",
    "import pathlib\n",
    "import numpy as np\n",
    "from functools import partial\n",
    "import pandas as pd\n",
    "from tensorflow.keras import Sequential\n",
    "from tensorflow.keras.applications.resnet50 import preprocess_input, ResNet50, decode_predictions \n",
    "import tensorflow_hub as hub\n",
    "from keras.callbacks import ModelCheckpoint\n",
    "import cv2"
   ]
  },
  {
   "cell_type": "markdown",
   "id": "614c52c2-5688-4456-a750-d6da356ce8b7",
   "metadata": {},
   "source": [
    "# Functions"
   ]
  },
  {
   "cell_type": "code",
   "execution_count": 55,
   "id": "4c95ecae-032d-4330-a76b-7c01b60ca5be",
   "metadata": {},
   "outputs": [],
   "source": [
    "batch_size = 16\n",
    "AUTOTUNE = tf.data.AUTOTUNE\n",
    "img_height, img_width =32,32\n",
    "\n",
    "\n",
    "\n",
    "def get_class_names(data_dir):\n",
    "    return np.array(sorted([item.name for item in data_dir.glob('*') ]))\n",
    "\n",
    "\n",
    "def plot_comparison(original, filtered, title_0,title_1):\n",
    "    fig, (ax1, ax2) = plt.subplots(ncols=2, figsize=(12, 8), sharex=True,\n",
    "    sharey=True)\n",
    "    ax1.imshow(original, cmap=plt.cm.gray)\n",
    "    ax1.set_title(title_0)\n",
    "    # ax1.axis('off')\n",
    "    ax2.imshow(filtered, cmap=plt.cm.gray)\n",
    "    ax2.set_title(title_1)\n",
    "\n",
    "def decode_img(img):\n",
    "  # Convert the compressed string to a 3D uint8 tensor\n",
    "  img = tf.io.decode_jpeg(img, channels=3)\n",
    "  # Resize the image to the desired size\n",
    "  return tf.image.resize(img, [img_height, img_width])\n",
    "\n",
    "\n",
    "def process_path(file_path):\n",
    "    label = get_label(file_path)\n",
    "  # Load the raw data from the file as a string\n",
    "    img = tf.io.read_file(file_path)\n",
    "    img = decode_img(img)\n",
    "    # img = tf.image.rgb_to_grayscale(img)\n",
    "    return img, label\n",
    "\n",
    "def configure_for_performance(ds):\n",
    "    ds = ds.cache()\n",
    "    ds = ds.shuffle(buffer_size=1000)\n",
    "    ds = ds.batch(batch_size)\n",
    "    ds = ds.prefetch(buffer_size=AUTOTUNE)\n",
    "    return ds\n",
    "\n",
    "def display_im_grid(data_set, dim):\n",
    "    image_batch, label_batch = next(iter(data_set))\n",
    "    plt.figure(figsize=(10, 10))\n",
    "    for i in range(dim**2):\n",
    "        ax = plt.subplot(dim, dim, i + 1)\n",
    "        plt.imshow(image_batch[i].numpy())\n",
    "        label = label_batch[i]\n",
    "        plt.title(class_names[label])\n",
    "        plt.axis(\"off\")\n",
    "        \n",
    "        \n",
    "def get_class_names(data_dir):\n",
    "    return np.array(sorted([item.name for item in data_dir.glob('*') ]))\n",
    "\n",
    "\n",
    "def scale_img(img,label):\n",
    "    return img/255.0, label\n",
    "\n",
    "\n",
    "def get_label(file_path):\n",
    "  # Convert the path to a list of path components\n",
    "  parts = tf.strings.split(file_path, os.path.sep)\n",
    "  # The second to last is the class-directory\n",
    "  one_hot = parts[-2] == class_names\n",
    "  # Integer encode the label\n",
    "  return tf.argmax(one_hot)\n",
    "\n",
    "\n",
    "def display_im_grid(data_set, dim):\n",
    "    image_batch, label_batch = next(iter(data_set))\n",
    "    plt.figure(figsize=(10, 10))\n",
    "    for i in range(dim**2):\n",
    "        ax = plt.subplot(dim, dim, i + 1)\n",
    "        plt.imshow(image_batch[i].numpy(),cmap= 'gray')\n",
    "        print(image_batch[i].numpy().mean())\n",
    "        print(image_batch[i].numpy().shape)\n",
    "        label = label_batch[i]\n",
    "        plt.title(class_names[label])\n",
    "        plt.axis(\"off\")\n",
    "        \n",
    "\n",
    "def create_pred_test_series_data(data_set, model, normalizer =tf.keras.layers.BatchNormalization()):\n",
    "    predict_list = []\n",
    "    label_list = []\n",
    "    im_list = []\n",
    "    norm_layer = normalizer\n",
    "    for batch in data_set: \n",
    "        pred_matrix = model.predict(batch[0], verbose = 2)\n",
    "        im_list += [np.array(im) for im in norm_layer(batch[0])]\n",
    "        predict_list += [np.argmax(pred) for pred in pred_matrix]\n",
    "        label_list += [label.numpy() for label in batch[1]]\n",
    "    return pd.Series(label_list) , pd.Series(predict_list) , im_list\n",
    "\n",
    "\n",
    "def convert_dir_ds_to_numpy(ds):\n",
    "    x_list = []\n",
    "    y_list = []\n",
    "    for x,y in ds:\n",
    "        x_list.append(x.numpy())\n",
    "        y_list.append(y.numpy())\n",
    "    x = np.concatenate(x_list)\n",
    "    x = x.reshape(x.shape[0:3])\n",
    "    \n",
    "    y = np.concatenate(y_list).astype(np.uint8)\n",
    "    return x,y\n",
    "\n",
    "\n",
    "def add_border(img, border_size = 4 ,border_color = 1):\n",
    "    img = img.copy()\n",
    "    # make Left Column Black\n",
    "    img[0:img.shape[0], 0:border_size] = border_color\n",
    "    # make Right Column Black\n",
    "    img[0:img.shape[0], (img.shape[1]-border_size):img.shape[1]] = border_color\n",
    "    # make top rows Black\n",
    "    img[0:border_size, 0:img.shape[1]] = border_color\n",
    "    #make bottom rows black\n",
    "    img[(img.shape[0]-border_size):img.shape[0],0:img.shape[1]] = border_color\n",
    "    return img\n"
   ]
  },
  {
   "cell_type": "markdown",
   "id": "8fa5e638-7693-424f-9237-c82eb9de3327",
   "metadata": {},
   "source": [
    "# Create Data Directory"
   ]
  },
  {
   "cell_type": "code",
   "execution_count": 56,
   "id": "84334b71-8504-4823-a9f0-41c90278289d",
   "metadata": {},
   "outputs": [
    {
     "data": {
      "text/plain": [
       "'image_classification_training_data'"
      ]
     },
     "execution_count": 56,
     "metadata": {},
     "output_type": "execute_result"
    }
   ],
   "source": [
    "data_dir = pathlib.Path('.\\\\image_classification_training_data')\n",
    "str(data_dir)"
   ]
  },
  {
   "cell_type": "code",
   "execution_count": 57,
   "id": "ce24ec01-005d-4520-9981-932ed8ca0174",
   "metadata": {},
   "outputs": [],
   "source": [
    "list_ds = tf.data.Dataset.list_files(str(data_dir/'*/*'), shuffle=False)\n",
    "image_count = len(list_ds)\n",
    "list_ds = list_ds.shuffle(image_count, reshuffle_each_iteration=False , seed = 448)"
   ]
  },
  {
   "cell_type": "markdown",
   "id": "607f87fb-db9f-45bb-b19a-de1415e27e29",
   "metadata": {},
   "source": [
    "# Create Training and Validation Set"
   ]
  },
  {
   "cell_type": "code",
   "execution_count": 58,
   "id": "bd21ac92-a843-40a4-8391-56c6fac97662",
   "metadata": {},
   "outputs": [],
   "source": [
    "val_size = int(image_count * 0.25)\n",
    "train_ds = list_ds.skip(val_size)\n",
    "val_ds = list_ds.take(val_size)"
   ]
  },
  {
   "cell_type": "code",
   "execution_count": 59,
   "id": "3bb70362-3f2c-4888-be13-ef60dd63ecd6",
   "metadata": {},
   "outputs": [
    {
     "name": "stdout",
     "output_type": "stream",
     "text": [
      "443\n",
      "147\n"
     ]
    }
   ],
   "source": [
    "print(tf.data.experimental.cardinality(train_ds).numpy())\n",
    "print(tf.data.experimental.cardinality(val_ds).numpy())"
   ]
  },
  {
   "cell_type": "code",
   "execution_count": 60,
   "id": "dfb2b71f-2a13-4580-a0ab-013ce0b41aad",
   "metadata": {},
   "outputs": [
    {
     "name": "stdout",
     "output_type": "stream",
     "text": [
      "['0' '1' '2' '3' '4' '5' '6' '7' '8' '9']\n"
     ]
    }
   ],
   "source": [
    "class_names = get_class_names(data_dir)\n",
    "print(class_names)"
   ]
  },
  {
   "cell_type": "code",
   "execution_count": 61,
   "id": "e86a7d0e-7e65-4038-bf37-15b9a72fdb93",
   "metadata": {},
   "outputs": [],
   "source": [
    "train_ds = train_ds.map(process_path, num_parallel_calls=AUTOTUNE).map(scale_img)\n",
    "val_ds = val_ds.map(process_path, num_parallel_calls=AUTOTUNE).map(scale_img)"
   ]
  },
  {
   "cell_type": "code",
   "execution_count": 62,
   "id": "76e79e38-866a-4417-986c-cf57f9924512",
   "metadata": {},
   "outputs": [],
   "source": [
    "train_ds = configure_for_performance(train_ds)\n",
    "val_ds = configure_for_performance(val_ds)"
   ]
  },
  {
   "cell_type": "code",
   "execution_count": 51,
   "id": "2b78791c-ed88-4fb4-84a3-0a2913f9f96e",
   "metadata": {},
   "outputs": [
    {
     "name": "stdout",
     "output_type": "stream",
     "text": [
      "0.7037082\n",
      "(32, 32, 1)\n",
      "0.6764488\n",
      "(32, 32, 1)\n",
      "0.8357009\n",
      "(32, 32, 1)\n",
      "0.70888346\n",
      "(32, 32, 1)\n",
      "0.7219839\n",
      "(32, 32, 1)\n",
      "0.6796415\n",
      "(32, 32, 1)\n",
      "0.71901596\n",
      "(32, 32, 1)\n",
      "0.7054086\n",
      "(32, 32, 1)\n",
      "0.66871977\n",
      "(32, 32, 1)\n"
     ]
    },
    {
     "data": {
      "image/png": "[encoded data removed]",
      "text/plain": [
       "<Figure size 1000x1000 with 9 Axes>"
      ]
     },
     "metadata": {},
     "output_type": "display_data"
    }
   ],
   "source": [
    "display_im_grid(train_ds,3)"
   ]
  },
  {
   "cell_type": "code",
   "execution_count": 37,
   "id": "6697042b-f00a-4c06-b518-cba7cb4cbb4e",
   "metadata": {},
   "outputs": [],
   "source": [
    "# num_classes = 10\n",
    "# model = tf.keras.Sequential([\n",
    "#   tf.keras.layers.BatchNormalization(),\n",
    "#   tf.keras.layers.Conv2D(64, 3, activation='relu'),\n",
    "#   tf.keras.layers.MaxPooling2D(),\n",
    "#   tf.keras.layers.Conv2D(32, 3, activation='relu'),\n",
    "   \n",
    "#   tf.keras.layers.MaxPooling2D(),\n",
    "#   tf.keras.layers.Conv2D(16, 3, activation='relu'),\n",
    "\n",
    "#   tf.keras.layers.MaxPooling2D(),\n",
    "#   tf.keras.layers.Flatten(),\n",
    "#   tf.keras.layers.Dense(32, activation='relu'),\n",
    "#   tf.keras.layers.Dense(num_classes,activation = 'softmax')\n",
    "# ])\n",
    "# # tf.keras.losses.SparseCategoricalCrossentropy(from_logits=True)\n",
    "# model.compile(\n",
    "#   optimizer='adam',\n",
    "#   loss=tf.keras.losses.SparseCategoricalCrossentropy(from_logits=False),\n",
    "#   metrics=['accuracy'])\n"
   ]
  },
  {
   "cell_type": "code",
   "execution_count": 39,
   "id": "f9e84803-d021-4bac-981d-108deb78a236",
   "metadata": {},
   "outputs": [],
   "source": [
    "class_weights = {0: 4.0, 1: 1.0, 2: 1.0, 3: 1.0, 4: 1.0, 5: 1.0, 6: 1.0, 7: 1.0, 8: 1.0, 9: 1.0}\n",
    "num_classes = 10\n",
    "model = tf.keras.Sequential([\n",
    "    tf.keras.layers.experimental.preprocessing.RandomRotation(0.25),\n",
    "    tf.keras.layers.BatchNormalization(),\n",
    "    tf.keras.layers.Conv2D(64, 3, activation='relu'),\n",
    "    tf.keras.layers.MaxPooling2D(),\n",
    "    tf.keras.layers.Conv2D(32, 3, activation='relu'),\n",
    "    tf.keras.layers.MaxPooling2D(),\n",
    "    tf.keras.layers.Conv2D(16, 3, activation='relu'),\n",
    "    tf.keras.layers.MaxPooling2D(),\n",
    "    tf.keras.layers.Flatten(),\n",
    "    tf.keras.layers.Dense(64, activation='relu'),\n",
    "    tf.keras.layers.Dropout(0.2),\n",
    "    tf.keras.layers.Dense(32, activation='relu'),\n",
    "    tf.keras.layers.Dropout(0.2),\n",
    "    tf.keras.layers.Dense(num_classes, activation='softmax')\n",
    "])\n",
    "# tf.keras.losses.SparseCategoricalCrossentropy(from_logits=True)\n",
    "model.compile(\n",
    "  optimizer='adam',\n",
    "  loss=tf.keras.losses.SparseCategoricalCrossentropy(from_logits=False),\n",
    "  metrics=['accuracy'])\n"
   ]
  },
  {
   "cell_type": "code",
   "execution_count": 63,
   "id": "cc3880f9-02ca-42b4-b5a2-89bef89bb88c",
   "metadata": {},
   "outputs": [],
   "source": [
    "class_weights = {0: 4.0, 1: 1.0, 2: 1.0, 3: 1.0, 4: 1.0, 5: 1.0, 6: 1.0, 7: 1.0, 8: 1.0, 9: 1.0}\n",
    "# Load pre-trained VGG16 model\n",
    "base_model = tf.keras.applications.VGG16(\n",
    "    weights='imagenet',\n",
    "    include_top=False,\n",
    "    input_shape=(32, 32, 3)\n",
    ")\n",
    "\n",
    "# Freeze the base model layers\n",
    "base_model.trainable = False\n",
    "\n",
    "# Add classification layers on top\n",
    "model = tf.keras.Sequential([\n",
    "    base_model,\n",
    "    tf.keras.layers.Flatten(),\n",
    "    tf.keras.layers.Dense(256, activation='relu'),\n",
    "    tf.keras.layers.Dense(num_classes, activation='softmax')\n",
    "])\n",
    "\n",
    "model.compile(\n",
    "    optimizer='adam',\n",
    "    loss=tf.keras.losses.SparseCategoricalCrossentropy(from_logits=False),\n",
    "    metrics=['accuracy']\n",
    ")"
   ]
  },
  {
   "cell_type": "code",
   "execution_count": 64,
   "id": "c20e0e0b-b432-48bd-bd50-a460f21e744d",
   "metadata": {},
   "outputs": [
    {
     "name": "stdout",
     "output_type": "stream",
     "text": [
      "Epoch 1/100\n",
      "28/28 [==============================] - ETA: 0s - loss: 1.7729 - accuracy: 0.5147\n",
      "Epoch 1: val_loss improved from inf to 0.92076, saving model to C:\\Users\\MA51801\\Documents\\Projects\\Sudoku_Project\\digit_classifier_model\\digit_classifier_vgg16.hdf5\n",
      "28/28 [==============================] - 3s 67ms/step - loss: 1.7729 - accuracy: 0.5147 - val_loss: 0.9208 - val_accuracy: 0.8503\n",
      "Epoch 2/100\n",
      "25/28 [=========================>....] - ETA: 0s - loss: 0.6780 - accuracy: 0.8875\n",
      "Epoch 2: val_loss improved from 0.92076 to 0.45752, saving model to C:\\Users\\MA51801\\Documents\\Projects\\Sudoku_Project\\digit_classifier_model\\digit_classifier_vgg16.hdf5\n",
      "28/28 [==============================] - 1s 23ms/step - loss: 0.6471 - accuracy: 0.8984 - val_loss: 0.4575 - val_accuracy: 0.8912\n",
      "Epoch 3/100\n",
      "25/28 [=========================>....] - ETA: 0s - loss: 0.3493 - accuracy: 0.9425\n",
      "Epoch 3: val_loss improved from 0.45752 to 0.28558, saving model to C:\\Users\\MA51801\\Documents\\Projects\\Sudoku_Project\\digit_classifier_model\\digit_classifier_vgg16.hdf5\n",
      "28/28 [==============================] - 1s 22ms/step - loss: 0.3421 - accuracy: 0.9413 - val_loss: 0.2856 - val_accuracy: 0.9456\n",
      "Epoch 4/100\n",
      "25/28 [=========================>....] - ETA: 0s - loss: 0.2278 - accuracy: 0.9650\n",
      "Epoch 4: val_loss improved from 0.28558 to 0.21436, saving model to C:\\Users\\MA51801\\Documents\\Projects\\Sudoku_Project\\digit_classifier_model\\digit_classifier_vgg16.hdf5\n",
      "28/28 [==============================] - 1s 23ms/step - loss: 0.2218 - accuracy: 0.9661 - val_loss: 0.2144 - val_accuracy: 0.9864\n",
      "Epoch 5/100\n",
      "26/28 [==========================>...] - ETA: 0s - loss: 0.1664 - accuracy: 0.9808\n",
      "Epoch 5: val_loss improved from 0.21436 to 0.15824, saving model to C:\\Users\\MA51801\\Documents\\Projects\\Sudoku_Project\\digit_classifier_model\\digit_classifier_vgg16.hdf5\n",
      "28/28 [==============================] - 1s 23ms/step - loss: 0.1640 - accuracy: 0.9819 - val_loss: 0.1582 - val_accuracy: 0.9796\n",
      "Epoch 6/100\n",
      "25/28 [=========================>....] - ETA: 0s - loss: 0.1319 - accuracy: 0.9850\n",
      "Epoch 6: val_loss improved from 0.15824 to 0.13970, saving model to C:\\Users\\MA51801\\Documents\\Projects\\Sudoku_Project\\digit_classifier_model\\digit_classifier_vgg16.hdf5\n",
      "28/28 [==============================] - 1s 23ms/step - loss: 0.1266 - accuracy: 0.9865 - val_loss: 0.1397 - val_accuracy: 0.9660\n",
      "Epoch 7/100\n",
      "26/28 [==========================>...] - ETA: 0s - loss: 0.0983 - accuracy: 0.9856\n",
      "Epoch 7: val_loss improved from 0.13970 to 0.09458, saving model to C:\\Users\\MA51801\\Documents\\Projects\\Sudoku_Project\\digit_classifier_model\\digit_classifier_vgg16.hdf5\n",
      "28/28 [==============================] - 1s 22ms/step - loss: 0.0990 - accuracy: 0.9842 - val_loss: 0.0946 - val_accuracy: 0.9932\n",
      "Epoch 8/100\n",
      "25/28 [=========================>....] - ETA: 0s - loss: 0.0856 - accuracy: 0.9900\n",
      "Epoch 8: val_loss improved from 0.09458 to 0.07573, saving model to C:\\Users\\MA51801\\Documents\\Projects\\Sudoku_Project\\digit_classifier_model\\digit_classifier_vgg16.hdf5\n",
      "28/28 [==============================] - 1s 22ms/step - loss: 0.0840 - accuracy: 0.9887 - val_loss: 0.0757 - val_accuracy: 0.9932\n",
      "Epoch 9/100\n",
      "28/28 [==============================] - ETA: 0s - loss: 0.0678 - accuracy: 0.9977\n",
      "Epoch 9: val_loss improved from 0.07573 to 0.06994, saving model to C:\\Users\\MA51801\\Documents\\Projects\\Sudoku_Project\\digit_classifier_model\\digit_classifier_vgg16.hdf5\n",
      "28/28 [==============================] - 1s 24ms/step - loss: 0.0678 - accuracy: 0.9977 - val_loss: 0.0699 - val_accuracy: 0.9932\n",
      "Epoch 10/100\n",
      "25/28 [=========================>....] - ETA: 0s - loss: 0.0558 - accuracy: 0.9950\n",
      "Epoch 10: val_loss improved from 0.06994 to 0.06809, saving model to C:\\Users\\MA51801\\Documents\\Projects\\Sudoku_Project\\digit_classifier_model\\digit_classifier_vgg16.hdf5\n",
      "28/28 [==============================] - 1s 23ms/step - loss: 0.0589 - accuracy: 0.9955 - val_loss: 0.0681 - val_accuracy: 0.9932\n",
      "Epoch 11/100\n",
      "26/28 [==========================>...] - ETA: 0s - loss: 0.0593 - accuracy: 0.9928\n",
      "Epoch 11: val_loss improved from 0.06809 to 0.06631, saving model to C:\\Users\\MA51801\\Documents\\Projects\\Sudoku_Project\\digit_classifier_model\\digit_classifier_vgg16.hdf5\n",
      "28/28 [==============================] - 1s 22ms/step - loss: 0.0580 - accuracy: 0.9932 - val_loss: 0.0663 - val_accuracy: 0.9932\n",
      "Epoch 12/100\n",
      "25/28 [=========================>....] - ETA: 0s - loss: 0.0563 - accuracy: 0.9850\n",
      "Epoch 12: val_loss improved from 0.06631 to 0.04916, saving model to C:\\Users\\MA51801\\Documents\\Projects\\Sudoku_Project\\digit_classifier_model\\digit_classifier_vgg16.hdf5\n",
      "28/28 [==============================] - 1s 22ms/step - loss: 0.0589 - accuracy: 0.9842 - val_loss: 0.0492 - val_accuracy: 0.9932\n",
      "Epoch 13/100\n",
      "25/28 [=========================>....] - ETA: 0s - loss: 0.0359 - accuracy: 0.9975\n",
      "Epoch 13: val_loss improved from 0.04916 to 0.04503, saving model to C:\\Users\\MA51801\\Documents\\Projects\\Sudoku_Project\\digit_classifier_model\\digit_classifier_vgg16.hdf5\n",
      "28/28 [==============================] - 1s 22ms/step - loss: 0.0346 - accuracy: 0.9977 - val_loss: 0.0450 - val_accuracy: 0.9932\n",
      "Epoch 14/100\n",
      "25/28 [=========================>....] - ETA: 0s - loss: 0.0303 - accuracy: 1.0000\n",
      "Epoch 14: val_loss improved from 0.04503 to 0.03994, saving model to C:\\Users\\MA51801\\Documents\\Projects\\Sudoku_Project\\digit_classifier_model\\digit_classifier_vgg16.hdf5\n",
      "28/28 [==============================] - 1s 25ms/step - loss: 0.0302 - accuracy: 1.0000 - val_loss: 0.0399 - val_accuracy: 0.9932\n",
      "Epoch 15/100\n",
      "25/28 [=========================>....] - ETA: 0s - loss: 0.0293 - accuracy: 0.9950\n",
      "Epoch 15: val_loss improved from 0.03994 to 0.03158, saving model to C:\\Users\\MA51801\\Documents\\Projects\\Sudoku_Project\\digit_classifier_model\\digit_classifier_vgg16.hdf5\n",
      "28/28 [==============================] - 1s 24ms/step - loss: 0.0280 - accuracy: 0.9955 - val_loss: 0.0316 - val_accuracy: 1.0000\n",
      "Epoch 16/100\n",
      "25/28 [=========================>....] - ETA: 0s - loss: 0.0244 - accuracy: 0.9975\n",
      "Epoch 16: val_loss improved from 0.03158 to 0.02810, saving model to C:\\Users\\MA51801\\Documents\\Projects\\Sudoku_Project\\digit_classifier_model\\digit_classifier_vgg16.hdf5\n",
      "28/28 [==============================] - 1s 24ms/step - loss: 0.0241 - accuracy: 0.9977 - val_loss: 0.0281 - val_accuracy: 1.0000\n",
      "Epoch 17/100\n",
      "25/28 [=========================>....] - ETA: 0s - loss: 0.0200 - accuracy: 1.0000\n",
      "Epoch 17: val_loss did not improve from 0.02810\n",
      "28/28 [==============================] - 1s 18ms/step - loss: 0.0204 - accuracy: 1.0000 - val_loss: 0.0290 - val_accuracy: 1.0000\n",
      "Epoch 18/100\n",
      "25/28 [=========================>....] - ETA: 0s - loss: 0.0176 - accuracy: 1.0000\n",
      "Epoch 18: val_loss improved from 0.02810 to 0.02319, saving model to C:\\Users\\MA51801\\Documents\\Projects\\Sudoku_Project\\digit_classifier_model\\digit_classifier_vgg16.hdf5\n",
      "28/28 [==============================] - 1s 24ms/step - loss: 0.0182 - accuracy: 1.0000 - val_loss: 0.0232 - val_accuracy: 1.0000\n",
      "Epoch 19/100\n",
      "25/28 [=========================>....] - ETA: 0s - loss: 0.0184 - accuracy: 1.0000\n",
      "Epoch 19: val_loss did not improve from 0.02319\n",
      "28/28 [==============================] - 1s 21ms/step - loss: 0.0185 - accuracy: 1.0000 - val_loss: 0.0239 - val_accuracy: 1.0000\n",
      "Epoch 20/100\n",
      "28/28 [==============================] - ETA: 0s - loss: 0.0142 - accuracy: 1.0000\n",
      "Epoch 20: val_loss improved from 0.02319 to 0.02022, saving model to C:\\Users\\MA51801\\Documents\\Projects\\Sudoku_Project\\digit_classifier_model\\digit_classifier_vgg16.hdf5\n",
      "28/28 [==============================] - 1s 26ms/step - loss: 0.0142 - accuracy: 1.0000 - val_loss: 0.0202 - val_accuracy: 1.0000\n",
      "Epoch 21/100\n",
      "26/28 [==========================>...] - ETA: 0s - loss: 0.0129 - accuracy: 1.0000\n",
      "Epoch 21: val_loss improved from 0.02022 to 0.01740, saving model to C:\\Users\\MA51801\\Documents\\Projects\\Sudoku_Project\\digit_classifier_model\\digit_classifier_vgg16.hdf5\n",
      "28/28 [==============================] - 1s 25ms/step - loss: 0.0126 - accuracy: 1.0000 - val_loss: 0.0174 - val_accuracy: 1.0000\n",
      "Epoch 22/100\n",
      "26/28 [==========================>...] - ETA: 0s - loss: 0.0116 - accuracy: 1.0000\n",
      "Epoch 22: val_loss improved from 0.01740 to 0.01722, saving model to C:\\Users\\MA51801\\Documents\\Projects\\Sudoku_Project\\digit_classifier_model\\digit_classifier_vgg16.hdf5\n",
      "28/28 [==============================] - 1s 26ms/step - loss: 0.0116 - accuracy: 1.0000 - val_loss: 0.0172 - val_accuracy: 1.0000\n",
      "Epoch 23/100\n",
      "26/28 [==========================>...] - ETA: 0s - loss: 0.0102 - accuracy: 1.0000\n",
      "Epoch 23: val_loss improved from 0.01722 to 0.01626, saving model to C:\\Users\\MA51801\\Documents\\Projects\\Sudoku_Project\\digit_classifier_model\\digit_classifier_vgg16.hdf5\n",
      "28/28 [==============================] - 1s 27ms/step - loss: 0.0104 - accuracy: 1.0000 - val_loss: 0.0163 - val_accuracy: 1.0000\n",
      "Epoch 24/100\n",
      "25/28 [=========================>....] - ETA: 0s - loss: 0.0095 - accuracy: 1.0000\n",
      "Epoch 24: val_loss improved from 0.01626 to 0.01383, saving model to C:\\Users\\MA51801\\Documents\\Projects\\Sudoku_Project\\digit_classifier_model\\digit_classifier_vgg16.hdf5\n",
      "28/28 [==============================] - 1s 25ms/step - loss: 0.0095 - accuracy: 1.0000 - val_loss: 0.0138 - val_accuracy: 1.0000\n",
      "Epoch 25/100\n",
      "28/28 [==============================] - ETA: 0s - loss: 0.0095 - accuracy: 1.0000\n",
      "Epoch 25: val_loss did not improve from 0.01383\n",
      "28/28 [==============================] - 1s 20ms/step - loss: 0.0095 - accuracy: 1.0000 - val_loss: 0.0142 - val_accuracy: 1.0000\n",
      "Epoch 26/100\n",
      "25/28 [=========================>....] - ETA: 0s - loss: 0.0083 - accuracy: 1.0000\n",
      "Epoch 26: val_loss improved from 0.01383 to 0.01206, saving model to C:\\Users\\MA51801\\Documents\\Projects\\Sudoku_Project\\digit_classifier_model\\digit_classifier_vgg16.hdf5\n",
      "28/28 [==============================] - 1s 24ms/step - loss: 0.0081 - accuracy: 1.0000 - val_loss: 0.0121 - val_accuracy: 1.0000\n",
      "Epoch 27/100\n",
      "28/28 [==============================] - ETA: 0s - loss: 0.0077 - accuracy: 1.0000\n",
      "Epoch 27: val_loss did not improve from 0.01206\n",
      "28/28 [==============================] - 1s 21ms/step - loss: 0.0077 - accuracy: 1.0000 - val_loss: 0.0122 - val_accuracy: 1.0000\n",
      "Epoch 28/100\n",
      "27/28 [===========================>..] - ETA: 0s - loss: 0.0069 - accuracy: 1.0000\n",
      "Epoch 28: val_loss did not improve from 0.01206\n",
      "28/28 [==============================] - 1s 20ms/step - loss: 0.0069 - accuracy: 1.0000 - val_loss: 0.0123 - val_accuracy: 1.0000\n",
      "Epoch 29/100\n",
      "28/28 [==============================] - ETA: 0s - loss: 0.0062 - accuracy: 1.0000\n",
      "Epoch 29: val_loss improved from 0.01206 to 0.01170, saving model to C:\\Users\\MA51801\\Documents\\Projects\\Sudoku_Project\\digit_classifier_model\\digit_classifier_vgg16.hdf5\n",
      "28/28 [==============================] - 1s 25ms/step - loss: 0.0062 - accuracy: 1.0000 - val_loss: 0.0117 - val_accuracy: 1.0000\n",
      "Epoch 30/100\n",
      "27/28 [===========================>..] - ETA: 0s - loss: 0.0065 - accuracy: 1.0000\n",
      "Epoch 30: val_loss improved from 0.01170 to 0.01103, saving model to C:\\Users\\MA51801\\Documents\\Projects\\Sudoku_Project\\digit_classifier_model\\digit_classifier_vgg16.hdf5\n",
      "28/28 [==============================] - 1s 26ms/step - loss: 0.0064 - accuracy: 1.0000 - val_loss: 0.0110 - val_accuracy: 1.0000\n",
      "Epoch 31/100\n",
      "25/28 [=========================>....] - ETA: 0s - loss: 0.0069 - accuracy: 1.0000\n",
      "Epoch 31: val_loss did not improve from 0.01103\n",
      "28/28 [==============================] - 1s 19ms/step - loss: 0.0069 - accuracy: 1.0000 - val_loss: 0.0135 - val_accuracy: 1.0000\n",
      "Epoch 32/100\n",
      "28/28 [==============================] - ETA: 0s - loss: 0.0054 - accuracy: 1.0000\n",
      "Epoch 32: val_loss improved from 0.01103 to 0.00927, saving model to C:\\Users\\MA51801\\Documents\\Projects\\Sudoku_Project\\digit_classifier_model\\digit_classifier_vgg16.hdf5\n",
      "28/28 [==============================] - 1s 25ms/step - loss: 0.0054 - accuracy: 1.0000 - val_loss: 0.0093 - val_accuracy: 1.0000\n",
      "Epoch 33/100\n",
      "28/28 [==============================] - ETA: 0s - loss: 0.0049 - accuracy: 1.0000\n",
      "Epoch 33: val_loss did not improve from 0.00927\n",
      "28/28 [==============================] - 1s 20ms/step - loss: 0.0049 - accuracy: 1.0000 - val_loss: 0.0111 - val_accuracy: 1.0000\n",
      "Epoch 34/100\n",
      "25/28 [=========================>....] - ETA: 0s - loss: 0.0047 - accuracy: 1.0000\n",
      "Epoch 34: val_loss improved from 0.00927 to 0.00878, saving model to C:\\Users\\MA51801\\Documents\\Projects\\Sudoku_Project\\digit_classifier_model\\digit_classifier_vgg16.hdf5\n",
      "28/28 [==============================] - 1s 24ms/step - loss: 0.0047 - accuracy: 1.0000 - val_loss: 0.0088 - val_accuracy: 1.0000\n",
      "Epoch 35/100\n",
      "27/28 [===========================>..] - ETA: 0s - loss: 0.0044 - accuracy: 1.0000\n",
      "Epoch 35: val_loss improved from 0.00878 to 0.00760, saving model to C:\\Users\\MA51801\\Documents\\Projects\\Sudoku_Project\\digit_classifier_model\\digit_classifier_vgg16.hdf5\n",
      "28/28 [==============================] - 1s 28ms/step - loss: 0.0043 - accuracy: 1.0000 - val_loss: 0.0076 - val_accuracy: 1.0000\n",
      "Epoch 36/100\n",
      "26/28 [==========================>...] - ETA: 0s - loss: 0.0040 - accuracy: 1.0000\n",
      "Epoch 36: val_loss did not improve from 0.00760\n",
      "28/28 [==============================] - 1s 22ms/step - loss: 0.0040 - accuracy: 1.0000 - val_loss: 0.0081 - val_accuracy: 1.0000\n",
      "Epoch 37/100\n",
      "26/28 [==========================>...] - ETA: 0s - loss: 0.0035 - accuracy: 1.0000\n",
      "Epoch 37: val_loss improved from 0.00760 to 0.00704, saving model to C:\\Users\\MA51801\\Documents\\Projects\\Sudoku_Project\\digit_classifier_model\\digit_classifier_vgg16.hdf5\n",
      "28/28 [==============================] - 1s 26ms/step - loss: 0.0037 - accuracy: 1.0000 - val_loss: 0.0070 - val_accuracy: 1.0000\n",
      "Epoch 38/100\n",
      "28/28 [==============================] - ETA: 0s - loss: 0.0036 - accuracy: 1.0000\n",
      "Epoch 38: val_loss improved from 0.00704 to 0.00659, saving model to C:\\Users\\MA51801\\Documents\\Projects\\Sudoku_Project\\digit_classifier_model\\digit_classifier_vgg16.hdf5\n",
      "28/28 [==============================] - 1s 25ms/step - loss: 0.0036 - accuracy: 1.0000 - val_loss: 0.0066 - val_accuracy: 1.0000\n",
      "Epoch 39/100\n",
      "25/28 [=========================>....] - ETA: 0s - loss: 0.0034 - accuracy: 1.0000\n",
      "Epoch 39: val_loss did not improve from 0.00659\n",
      "28/28 [==============================] - 1s 21ms/step - loss: 0.0033 - accuracy: 1.0000 - val_loss: 0.0070 - val_accuracy: 1.0000\n",
      "Epoch 40/100\n",
      "27/28 [===========================>..] - ETA: 0s - loss: 0.0031 - accuracy: 1.0000\n",
      "Epoch 40: val_loss improved from 0.00659 to 0.00614, saving model to C:\\Users\\MA51801\\Documents\\Projects\\Sudoku_Project\\digit_classifier_model\\digit_classifier_vgg16.hdf5\n",
      "28/28 [==============================] - 1s 25ms/step - loss: 0.0031 - accuracy: 1.0000 - val_loss: 0.0061 - val_accuracy: 1.0000\n",
      "Epoch 41/100\n",
      "28/28 [==============================] - ETA: 0s - loss: 0.0029 - accuracy: 1.0000\n",
      "Epoch 41: val_loss did not improve from 0.00614\n",
      "28/28 [==============================] - 1s 20ms/step - loss: 0.0029 - accuracy: 1.0000 - val_loss: 0.0063 - val_accuracy: 1.0000\n",
      "Epoch 42/100\n",
      "26/28 [==========================>...] - ETA: 0s - loss: 0.0029 - accuracy: 1.0000\n",
      "Epoch 42: val_loss improved from 0.00614 to 0.00596, saving model to C:\\Users\\MA51801\\Documents\\Projects\\Sudoku_Project\\digit_classifier_model\\digit_classifier_vgg16.hdf5\n",
      "28/28 [==============================] - 1s 26ms/step - loss: 0.0028 - accuracy: 1.0000 - val_loss: 0.0060 - val_accuracy: 1.0000\n",
      "Epoch 43/100\n",
      "26/28 [==========================>...] - ETA: 0s - loss: 0.0028 - accuracy: 1.0000\n",
      "Epoch 43: val_loss improved from 0.00596 to 0.00580, saving model to C:\\Users\\MA51801\\Documents\\Projects\\Sudoku_Project\\digit_classifier_model\\digit_classifier_vgg16.hdf5\n",
      "28/28 [==============================] - 1s 27ms/step - loss: 0.0027 - accuracy: 1.0000 - val_loss: 0.0058 - val_accuracy: 1.0000\n",
      "Epoch 44/100\n",
      "27/28 [===========================>..] - ETA: 0s - loss: 0.0026 - accuracy: 1.0000\n",
      "Epoch 44: val_loss did not improve from 0.00580\n",
      "28/28 [==============================] - 1s 20ms/step - loss: 0.0027 - accuracy: 1.0000 - val_loss: 0.0066 - val_accuracy: 1.0000\n",
      "Epoch 45/100\n",
      "27/28 [===========================>..] - ETA: 0s - loss: 0.0024 - accuracy: 1.0000\n",
      "Epoch 45: val_loss improved from 0.00580 to 0.00525, saving model to C:\\Users\\MA51801\\Documents\\Projects\\Sudoku_Project\\digit_classifier_model\\digit_classifier_vgg16.hdf5\n",
      "28/28 [==============================] - 1s 26ms/step - loss: 0.0024 - accuracy: 1.0000 - val_loss: 0.0052 - val_accuracy: 1.0000\n",
      "Epoch 46/100\n",
      "28/28 [==============================] - ETA: 0s - loss: 0.0023 - accuracy: 1.0000\n",
      "Epoch 46: val_loss improved from 0.00525 to 0.00512, saving model to C:\\Users\\MA51801\\Documents\\Projects\\Sudoku_Project\\digit_classifier_model\\digit_classifier_vgg16.hdf5\n",
      "28/28 [==============================] - 1s 26ms/step - loss: 0.0023 - accuracy: 1.0000 - val_loss: 0.0051 - val_accuracy: 1.0000\n",
      "Epoch 47/100\n",
      "26/28 [==========================>...] - ETA: 0s - loss: 0.0022 - accuracy: 1.0000\n",
      "Epoch 47: val_loss improved from 0.00512 to 0.00497, saving model to C:\\Users\\MA51801\\Documents\\Projects\\Sudoku_Project\\digit_classifier_model\\digit_classifier_vgg16.hdf5\n",
      "28/28 [==============================] - 1s 27ms/step - loss: 0.0022 - accuracy: 1.0000 - val_loss: 0.0050 - val_accuracy: 1.0000\n",
      "Epoch 48/100\n",
      "27/28 [===========================>..] - ETA: 0s - loss: 0.0021 - accuracy: 1.0000\n",
      "Epoch 48: val_loss improved from 0.00497 to 0.00487, saving model to C:\\Users\\MA51801\\Documents\\Projects\\Sudoku_Project\\digit_classifier_model\\digit_classifier_vgg16.hdf5\n",
      "28/28 [==============================] - 1s 26ms/step - loss: 0.0021 - accuracy: 1.0000 - val_loss: 0.0049 - val_accuracy: 1.0000\n",
      "Epoch 49/100\n",
      "27/28 [===========================>..] - ETA: 0s - loss: 0.0020 - accuracy: 1.0000\n",
      "Epoch 49: val_loss improved from 0.00487 to 0.00443, saving model to C:\\Users\\MA51801\\Documents\\Projects\\Sudoku_Project\\digit_classifier_model\\digit_classifier_vgg16.hdf5\n",
      "28/28 [==============================] - 1s 26ms/step - loss: 0.0020 - accuracy: 1.0000 - val_loss: 0.0044 - val_accuracy: 1.0000\n",
      "Epoch 50/100\n",
      "25/28 [=========================>....] - ETA: 0s - loss: 0.0020 - accuracy: 1.0000\n",
      "Epoch 50: val_loss did not improve from 0.00443\n",
      "28/28 [==============================] - 1s 20ms/step - loss: 0.0020 - accuracy: 1.0000 - val_loss: 0.0045 - val_accuracy: 1.0000\n",
      "Epoch 51/100\n",
      "27/28 [===========================>..] - ETA: 0s - loss: 0.0018 - accuracy: 1.0000\n",
      "Epoch 51: val_loss improved from 0.00443 to 0.00438, saving model to C:\\Users\\MA51801\\Documents\\Projects\\Sudoku_Project\\digit_classifier_model\\digit_classifier_vgg16.hdf5\n",
      "28/28 [==============================] - 1s 26ms/step - loss: 0.0018 - accuracy: 1.0000 - val_loss: 0.0044 - val_accuracy: 1.0000\n",
      "Epoch 52/100\n",
      "26/28 [==========================>...] - ETA: 0s - loss: 0.0017 - accuracy: 1.0000\n",
      "Epoch 52: val_loss improved from 0.00438 to 0.00409, saving model to C:\\Users\\MA51801\\Documents\\Projects\\Sudoku_Project\\digit_classifier_model\\digit_classifier_vgg16.hdf5\n",
      "28/28 [==============================] - 1s 25ms/step - loss: 0.0017 - accuracy: 1.0000 - val_loss: 0.0041 - val_accuracy: 1.0000\n",
      "Epoch 53/100\n",
      "28/28 [==============================] - ETA: 0s - loss: 0.0017 - accuracy: 1.0000\n",
      "Epoch 53: val_loss did not improve from 0.00409\n",
      "28/28 [==============================] - 1s 21ms/step - loss: 0.0017 - accuracy: 1.0000 - val_loss: 0.0042 - val_accuracy: 1.0000\n",
      "Epoch 54/100\n",
      "26/28 [==========================>...] - ETA: 0s - loss: 0.0016 - accuracy: 1.0000\n",
      "Epoch 54: val_loss did not improve from 0.00409\n",
      "28/28 [==============================] - 1s 22ms/step - loss: 0.0016 - accuracy: 1.0000 - val_loss: 0.0042 - val_accuracy: 1.0000\n",
      "Epoch 55/100\n",
      "28/28 [==============================] - ETA: 0s - loss: 0.0015 - accuracy: 1.0000\n",
      "Epoch 55: val_loss improved from 0.00409 to 0.00367, saving model to C:\\Users\\MA51801\\Documents\\Projects\\Sudoku_Project\\digit_classifier_model\\digit_classifier_vgg16.hdf5\n",
      "28/28 [==============================] - 1s 29ms/step - loss: 0.0015 - accuracy: 1.0000 - val_loss: 0.0037 - val_accuracy: 1.0000\n",
      "Epoch 56/100\n",
      "26/28 [==========================>...] - ETA: 0s - loss: 0.0015 - accuracy: 1.0000\n",
      "Epoch 56: val_loss did not improve from 0.00367\n",
      "28/28 [==============================] - 1s 21ms/step - loss: 0.0014 - accuracy: 1.0000 - val_loss: 0.0041 - val_accuracy: 1.0000\n",
      "Epoch 57/100\n",
      "28/28 [==============================] - ETA: 0s - loss: 0.0014 - accuracy: 1.0000\n",
      "Epoch 57: val_loss improved from 0.00367 to 0.00360, saving model to C:\\Users\\MA51801\\Documents\\Projects\\Sudoku_Project\\digit_classifier_model\\digit_classifier_vgg16.hdf5\n",
      "28/28 [==============================] - 1s 25ms/step - loss: 0.0014 - accuracy: 1.0000 - val_loss: 0.0036 - val_accuracy: 1.0000\n",
      "Epoch 58/100\n",
      "26/28 [==========================>...] - ETA: 0s - loss: 0.0014 - accuracy: 1.0000\n",
      "Epoch 58: val_loss improved from 0.00360 to 0.00344, saving model to C:\\Users\\MA51801\\Documents\\Projects\\Sudoku_Project\\digit_classifier_model\\digit_classifier_vgg16.hdf5\n",
      "28/28 [==============================] - 1s 26ms/step - loss: 0.0013 - accuracy: 1.0000 - val_loss: 0.0034 - val_accuracy: 1.0000\n",
      "Epoch 59/100\n",
      "25/28 [=========================>....] - ETA: 0s - loss: 0.0013 - accuracy: 1.0000\n",
      "Epoch 59: val_loss improved from 0.00344 to 0.00344, saving model to C:\\Users\\MA51801\\Documents\\Projects\\Sudoku_Project\\digit_classifier_model\\digit_classifier_vgg16.hdf5\n",
      "28/28 [==============================] - 1s 25ms/step - loss: 0.0013 - accuracy: 1.0000 - val_loss: 0.0034 - val_accuracy: 1.0000\n",
      "Epoch 60/100\n",
      "25/28 [=========================>....] - ETA: 0s - loss: 0.0012 - accuracy: 1.0000\n",
      "Epoch 60: val_loss improved from 0.00344 to 0.00328, saving model to C:\\Users\\MA51801\\Documents\\Projects\\Sudoku_Project\\digit_classifier_model\\digit_classifier_vgg16.hdf5\n",
      "28/28 [==============================] - 1s 25ms/step - loss: 0.0013 - accuracy: 1.0000 - val_loss: 0.0033 - val_accuracy: 1.0000\n",
      "Epoch 61/100\n",
      "25/28 [=========================>....] - ETA: 0s - loss: 0.0012 - accuracy: 1.0000\n",
      "Epoch 61: val_loss improved from 0.00328 to 0.00315, saving model to C:\\Users\\MA51801\\Documents\\Projects\\Sudoku_Project\\digit_classifier_model\\digit_classifier_vgg16.hdf5\n",
      "28/28 [==============================] - 1s 25ms/step - loss: 0.0012 - accuracy: 1.0000 - val_loss: 0.0031 - val_accuracy: 1.0000\n",
      "Epoch 62/100\n",
      "26/28 [==========================>...] - ETA: 0s - loss: 0.0012 - accuracy: 1.0000\n",
      "Epoch 62: val_loss improved from 0.00315 to 0.00303, saving model to C:\\Users\\MA51801\\Documents\\Projects\\Sudoku_Project\\digit_classifier_model\\digit_classifier_vgg16.hdf5\n",
      "28/28 [==============================] - 1s 26ms/step - loss: 0.0011 - accuracy: 1.0000 - val_loss: 0.0030 - val_accuracy: 1.0000\n",
      "Epoch 63/100\n",
      "28/28 [==============================] - ETA: 0s - loss: 0.0011 - accuracy: 1.0000\n",
      "Epoch 63: val_loss did not improve from 0.00303\n",
      "28/28 [==============================] - 1s 20ms/step - loss: 0.0011 - accuracy: 1.0000 - val_loss: 0.0031 - val_accuracy: 1.0000\n",
      "Epoch 64/100\n",
      "26/28 [==========================>...] - ETA: 0s - loss: 0.0011 - accuracy: 1.0000\n",
      "Epoch 64: val_loss improved from 0.00303 to 0.00299, saving model to C:\\Users\\MA51801\\Documents\\Projects\\Sudoku_Project\\digit_classifier_model\\digit_classifier_vgg16.hdf5\n",
      "28/28 [==============================] - 1s 26ms/step - loss: 0.0011 - accuracy: 1.0000 - val_loss: 0.0030 - val_accuracy: 1.0000\n",
      "Epoch 65/100\n",
      "28/28 [==============================] - ETA: 0s - loss: 0.0010 - accuracy: 1.0000\n",
      "Epoch 65: val_loss improved from 0.00299 to 0.00289, saving model to C:\\Users\\MA51801\\Documents\\Projects\\Sudoku_Project\\digit_classifier_model\\digit_classifier_vgg16.hdf5\n",
      "28/28 [==============================] - 1s 26ms/step - loss: 0.0010 - accuracy: 1.0000 - val_loss: 0.0029 - val_accuracy: 1.0000\n",
      "Epoch 66/100\n",
      "28/28 [==============================] - ETA: 0s - loss: 0.0010 - accuracy: 1.0000\n",
      "Epoch 66: val_loss improved from 0.00289 to 0.00268, saving model to C:\\Users\\MA51801\\Documents\\Projects\\Sudoku_Project\\digit_classifier_model\\digit_classifier_vgg16.hdf5\n",
      "28/28 [==============================] - 1s 26ms/step - loss: 0.0010 - accuracy: 1.0000 - val_loss: 0.0027 - val_accuracy: 1.0000\n",
      "Epoch 67/100\n",
      "27/28 [===========================>..] - ETA: 0s - loss: 9.9047e-04 - accuracy: 1.0000\n",
      "Epoch 67: val_loss improved from 0.00268 to 0.00263, saving model to C:\\Users\\MA51801\\Documents\\Projects\\Sudoku_Project\\digit_classifier_model\\digit_classifier_vgg16.hdf5\n",
      "28/28 [==============================] - 1s 26ms/step - loss: 9.6967e-04 - accuracy: 1.0000 - val_loss: 0.0026 - val_accuracy: 1.0000\n",
      "Epoch 68/100\n",
      "27/28 [===========================>..] - ETA: 0s - loss: 9.4532e-04 - accuracy: 1.0000\n",
      "Epoch 68: val_loss did not improve from 0.00263\n",
      "28/28 [==============================] - 1s 21ms/step - loss: 9.2854e-04 - accuracy: 1.0000 - val_loss: 0.0028 - val_accuracy: 1.0000\n",
      "Epoch 69/100\n",
      "26/28 [==========================>...] - ETA: 0s - loss: 8.9708e-04 - accuracy: 1.0000\n",
      "Epoch 69: val_loss improved from 0.00263 to 0.00258, saving model to C:\\Users\\MA51801\\Documents\\Projects\\Sudoku_Project\\digit_classifier_model\\digit_classifier_vgg16.hdf5\n",
      "28/28 [==============================] - 1s 28ms/step - loss: 8.8611e-04 - accuracy: 1.0000 - val_loss: 0.0026 - val_accuracy: 1.0000\n",
      "Epoch 70/100\n",
      "25/28 [=========================>....] - ETA: 0s - loss: 8.7249e-04 - accuracy: 1.0000\n",
      "Epoch 70: val_loss improved from 0.00258 to 0.00250, saving model to C:\\Users\\MA51801\\Documents\\Projects\\Sudoku_Project\\digit_classifier_model\\digit_classifier_vgg16.hdf5\n",
      "28/28 [==============================] - 1s 25ms/step - loss: 8.6959e-04 - accuracy: 1.0000 - val_loss: 0.0025 - val_accuracy: 1.0000\n",
      "Epoch 71/100\n",
      "27/28 [===========================>..] - ETA: 0s - loss: 8.3357e-04 - accuracy: 1.0000\n",
      "Epoch 71: val_loss improved from 0.00250 to 0.00246, saving model to C:\\Users\\MA51801\\Documents\\Projects\\Sudoku_Project\\digit_classifier_model\\digit_classifier_vgg16.hdf5\n",
      "28/28 [==============================] - 1s 26ms/step - loss: 8.3154e-04 - accuracy: 1.0000 - val_loss: 0.0025 - val_accuracy: 1.0000\n",
      "Epoch 72/100\n",
      "25/28 [=========================>....] - ETA: 0s - loss: 8.4370e-04 - accuracy: 1.0000\n",
      "Epoch 72: val_loss improved from 0.00246 to 0.00241, saving model to C:\\Users\\MA51801\\Documents\\Projects\\Sudoku_Project\\digit_classifier_model\\digit_classifier_vgg16.hdf5\n",
      "28/28 [==============================] - 1s 24ms/step - loss: 7.9872e-04 - accuracy: 1.0000 - val_loss: 0.0024 - val_accuracy: 1.0000\n",
      "Epoch 73/100\n",
      "27/28 [===========================>..] - ETA: 0s - loss: 7.6117e-04 - accuracy: 1.0000\n",
      "Epoch 73: val_loss did not improve from 0.00241\n",
      "28/28 [==============================] - 1s 21ms/step - loss: 7.6939e-04 - accuracy: 1.0000 - val_loss: 0.0024 - val_accuracy: 1.0000\n",
      "Epoch 74/100\n",
      "28/28 [==============================] - ETA: 0s - loss: 7.5139e-04 - accuracy: 1.0000\n",
      "Epoch 74: val_loss improved from 0.00241 to 0.00232, saving model to C:\\Users\\MA51801\\Documents\\Projects\\Sudoku_Project\\digit_classifier_model\\digit_classifier_vgg16.hdf5\n",
      "28/28 [==============================] - 1s 25ms/step - loss: 7.5139e-04 - accuracy: 1.0000 - val_loss: 0.0023 - val_accuracy: 1.0000\n",
      "Epoch 75/100\n",
      "25/28 [=========================>....] - ETA: 0s - loss: 7.2006e-04 - accuracy: 1.0000\n",
      "Epoch 75: val_loss improved from 0.00232 to 0.00218, saving model to C:\\Users\\MA51801\\Documents\\Projects\\Sudoku_Project\\digit_classifier_model\\digit_classifier_vgg16.hdf5\n",
      "28/28 [==============================] - 1s 25ms/step - loss: 7.2426e-04 - accuracy: 1.0000 - val_loss: 0.0022 - val_accuracy: 1.0000\n",
      "Epoch 76/100\n",
      "28/28 [==============================] - ETA: 0s - loss: 7.0113e-04 - accuracy: 1.0000\n",
      "Epoch 76: val_loss did not improve from 0.00218\n",
      "28/28 [==============================] - 1s 20ms/step - loss: 7.0113e-04 - accuracy: 1.0000 - val_loss: 0.0022 - val_accuracy: 1.0000\n",
      "Epoch 77/100\n",
      "25/28 [=========================>....] - ETA: 0s - loss: 7.0797e-04 - accuracy: 1.0000\n",
      "Epoch 77: val_loss improved from 0.00218 to 0.00212, saving model to C:\\Users\\MA51801\\Documents\\Projects\\Sudoku_Project\\digit_classifier_model\\digit_classifier_vgg16.hdf5\n",
      "28/28 [==============================] - 1s 25ms/step - loss: 6.8819e-04 - accuracy: 1.0000 - val_loss: 0.0021 - val_accuracy: 1.0000\n",
      "Epoch 78/100\n",
      "25/28 [=========================>....] - ETA: 0s - loss: 6.6936e-04 - accuracy: 1.0000\n",
      "Epoch 78: val_loss did not improve from 0.00212\n",
      "28/28 [==============================] - 1s 22ms/step - loss: 6.5313e-04 - accuracy: 1.0000 - val_loss: 0.0021 - val_accuracy: 1.0000\n",
      "Epoch 79/100\n",
      "26/28 [==========================>...] - ETA: 0s - loss: 6.3611e-04 - accuracy: 1.0000\n",
      "Epoch 79: val_loss improved from 0.00212 to 0.00197, saving model to C:\\Users\\MA51801\\Documents\\Projects\\Sudoku_Project\\digit_classifier_model\\digit_classifier_vgg16.hdf5\n",
      "28/28 [==============================] - 1s 26ms/step - loss: 6.4124e-04 - accuracy: 1.0000 - val_loss: 0.0020 - val_accuracy: 1.0000\n",
      "Epoch 80/100\n",
      "28/28 [==============================] - ETA: 0s - loss: 6.2577e-04 - accuracy: 1.0000\n",
      "Epoch 80: val_loss did not improve from 0.00197\n",
      "28/28 [==============================] - 1s 21ms/step - loss: 6.2577e-04 - accuracy: 1.0000 - val_loss: 0.0021 - val_accuracy: 1.0000\n",
      "Epoch 81/100\n",
      "25/28 [=========================>....] - ETA: 0s - loss: 6.3484e-04 - accuracy: 1.0000\n",
      "Epoch 81: val_loss improved from 0.00197 to 0.00197, saving model to C:\\Users\\MA51801\\Documents\\Projects\\Sudoku_Project\\digit_classifier_model\\digit_classifier_vgg16.hdf5\n",
      "28/28 [==============================] - 1s 25ms/step - loss: 6.0549e-04 - accuracy: 1.0000 - val_loss: 0.0020 - val_accuracy: 1.0000\n",
      "Epoch 82/100\n",
      "27/28 [===========================>..] - ETA: 0s - loss: 5.8109e-04 - accuracy: 1.0000\n",
      "Epoch 82: val_loss improved from 0.00197 to 0.00180, saving model to C:\\Users\\MA51801\\Documents\\Projects\\Sudoku_Project\\digit_classifier_model\\digit_classifier_vgg16.hdf5\n",
      "28/28 [==============================] - 1s 25ms/step - loss: 5.8024e-04 - accuracy: 1.0000 - val_loss: 0.0018 - val_accuracy: 1.0000\n",
      "Epoch 83/100\n",
      "28/28 [==============================] - ETA: 0s - loss: 5.6435e-04 - accuracy: 1.0000\n",
      "Epoch 83: val_loss did not improve from 0.00180\n",
      "28/28 [==============================] - 1s 21ms/step - loss: 5.6435e-04 - accuracy: 1.0000 - val_loss: 0.0020 - val_accuracy: 1.0000\n",
      "Epoch 84/100\n",
      "26/28 [==========================>...] - ETA: 0s - loss: 5.1900e-04 - accuracy: 1.0000\n",
      "Epoch 84: val_loss improved from 0.00180 to 0.00180, saving model to C:\\Users\\MA51801\\Documents\\Projects\\Sudoku_Project\\digit_classifier_model\\digit_classifier_vgg16.hdf5\n",
      "28/28 [==============================] - 1s 26ms/step - loss: 5.5171e-04 - accuracy: 1.0000 - val_loss: 0.0018 - val_accuracy: 1.0000\n",
      "Epoch 85/100\n",
      "28/28 [==============================] - ETA: 0s - loss: 5.4430e-04 - accuracy: 1.0000\n",
      "Epoch 85: val_loss did not improve from 0.00180\n",
      "28/28 [==============================] - 1s 21ms/step - loss: 5.4430e-04 - accuracy: 1.0000 - val_loss: 0.0019 - val_accuracy: 1.0000\n",
      "Epoch 86/100\n",
      "26/28 [==========================>...] - ETA: 0s - loss: 4.7050e-04 - accuracy: 1.0000\n",
      "Epoch 86: val_loss improved from 0.00180 to 0.00176, saving model to C:\\Users\\MA51801\\Documents\\Projects\\Sudoku_Project\\digit_classifier_model\\digit_classifier_vgg16.hdf5\n",
      "28/28 [==============================] - 1s 25ms/step - loss: 5.1832e-04 - accuracy: 1.0000 - val_loss: 0.0018 - val_accuracy: 1.0000\n",
      "Epoch 87/100\n",
      "27/28 [===========================>..] - ETA: 0s - loss: 4.9800e-04 - accuracy: 1.0000\n",
      "Epoch 87: val_loss improved from 0.00176 to 0.00167, saving model to C:\\Users\\MA51801\\Documents\\Projects\\Sudoku_Project\\digit_classifier_model\\digit_classifier_vgg16.hdf5\n",
      "28/28 [==============================] - 1s 48ms/step - loss: 4.9181e-04 - accuracy: 1.0000 - val_loss: 0.0017 - val_accuracy: 1.0000\n",
      "Epoch 88/100\n",
      "27/28 [===========================>..] - ETA: 0s - loss: 4.7160e-04 - accuracy: 1.0000\n",
      "Epoch 88: val_loss improved from 0.00167 to 0.00164, saving model to C:\\Users\\MA51801\\Documents\\Projects\\Sudoku_Project\\digit_classifier_model\\digit_classifier_vgg16.hdf5\n",
      "28/28 [==============================] - 1s 41ms/step - loss: 4.7645e-04 - accuracy: 1.0000 - val_loss: 0.0016 - val_accuracy: 1.0000\n",
      "Epoch 89/100\n",
      "28/28 [==============================] - ETA: 0s - loss: 4.6358e-04 - accuracy: 1.0000\n",
      "Epoch 89: val_loss improved from 0.00164 to 0.00163, saving model to C:\\Users\\MA51801\\Documents\\Projects\\Sudoku_Project\\digit_classifier_model\\digit_classifier_vgg16.hdf5\n",
      "28/28 [==============================] - 1s 31ms/step - loss: 4.6358e-04 - accuracy: 1.0000 - val_loss: 0.0016 - val_accuracy: 1.0000\n",
      "Epoch 90/100\n",
      "28/28 [==============================] - ETA: 0s - loss: 4.5102e-04 - accuracy: 1.0000\n",
      "Epoch 90: val_loss did not improve from 0.00163\n",
      "28/28 [==============================] - 1s 22ms/step - loss: 4.5102e-04 - accuracy: 1.0000 - val_loss: 0.0016 - val_accuracy: 1.0000\n",
      "Epoch 91/100\n",
      "28/28 [==============================] - ETA: 0s - loss: 4.4226e-04 - accuracy: 1.0000\n",
      "Epoch 91: val_loss improved from 0.00163 to 0.00161, saving model to C:\\Users\\MA51801\\Documents\\Projects\\Sudoku_Project\\digit_classifier_model\\digit_classifier_vgg16.hdf5\n",
      "28/28 [==============================] - 1s 28ms/step - loss: 4.4226e-04 - accuracy: 1.0000 - val_loss: 0.0016 - val_accuracy: 1.0000\n",
      "Epoch 92/100\n",
      "27/28 [===========================>..] - ETA: 0s - loss: 4.2848e-04 - accuracy: 1.0000\n",
      "Epoch 92: val_loss improved from 0.00161 to 0.00150, saving model to C:\\Users\\MA51801\\Documents\\Projects\\Sudoku_Project\\digit_classifier_model\\digit_classifier_vgg16.hdf5\n",
      "28/28 [==============================] - 1s 36ms/step - loss: 4.2478e-04 - accuracy: 1.0000 - val_loss: 0.0015 - val_accuracy: 1.0000\n",
      "Epoch 93/100\n",
      "27/28 [===========================>..] - ETA: 0s - loss: 4.1852e-04 - accuracy: 1.0000\n",
      "Epoch 93: val_loss did not improve from 0.00150\n",
      "28/28 [==============================] - 1s 21ms/step - loss: 4.1802e-04 - accuracy: 1.0000 - val_loss: 0.0016 - val_accuracy: 1.0000\n",
      "Epoch 94/100\n",
      "26/28 [==========================>...] - ETA: 0s - loss: 4.1933e-04 - accuracy: 1.0000\n",
      "Epoch 94: val_loss improved from 0.00150 to 0.00146, saving model to C:\\Users\\MA51801\\Documents\\Projects\\Sudoku_Project\\digit_classifier_model\\digit_classifier_vgg16.hdf5\n",
      "28/28 [==============================] - 1s 24ms/step - loss: 4.0345e-04 - accuracy: 1.0000 - val_loss: 0.0015 - val_accuracy: 1.0000\n",
      "Epoch 95/100\n",
      "25/28 [=========================>....] - ETA: 0s - loss: 4.1479e-04 - accuracy: 1.0000\n",
      "Epoch 95: val_loss improved from 0.00146 to 0.00142, saving model to C:\\Users\\MA51801\\Documents\\Projects\\Sudoku_Project\\digit_classifier_model\\digit_classifier_vgg16.hdf5\n",
      "28/28 [==============================] - 1s 27ms/step - loss: 3.9727e-04 - accuracy: 1.0000 - val_loss: 0.0014 - val_accuracy: 1.0000\n",
      "Epoch 96/100\n",
      "28/28 [==============================] - ETA: 0s - loss: 3.8165e-04 - accuracy: 1.0000\n",
      "Epoch 96: val_loss did not improve from 0.00142\n",
      "28/28 [==============================] - 1s 19ms/step - loss: 3.8165e-04 - accuracy: 1.0000 - val_loss: 0.0014 - val_accuracy: 1.0000\n",
      "Epoch 97/100\n",
      "26/28 [==========================>...] - ETA: 0s - loss: 3.7481e-04 - accuracy: 1.0000\n",
      "Epoch 97: val_loss improved from 0.00142 to 0.00142, saving model to C:\\Users\\MA51801\\Documents\\Projects\\Sudoku_Project\\digit_classifier_model\\digit_classifier_vgg16.hdf5\n",
      "28/28 [==============================] - 1s 27ms/step - loss: 3.6927e-04 - accuracy: 1.0000 - val_loss: 0.0014 - val_accuracy: 1.0000\n",
      "Epoch 98/100\n",
      "26/28 [==========================>...] - ETA: 0s - loss: 3.5696e-04 - accuracy: 1.0000\n",
      "Epoch 98: val_loss improved from 0.00142 to 0.00129, saving model to C:\\Users\\MA51801\\Documents\\Projects\\Sudoku_Project\\digit_classifier_model\\digit_classifier_vgg16.hdf5\n",
      "28/28 [==============================] - 1s 22ms/step - loss: 3.6390e-04 - accuracy: 1.0000 - val_loss: 0.0013 - val_accuracy: 1.0000\n",
      "Epoch 99/100\n",
      "27/28 [===========================>..] - ETA: 0s - loss: 3.6032e-04 - accuracy: 1.0000\n",
      "Epoch 99: val_loss did not improve from 0.00129\n",
      "28/28 [==============================] - 0s 17ms/step - loss: 3.5531e-04 - accuracy: 1.0000 - val_loss: 0.0016 - val_accuracy: 1.0000\n",
      "Epoch 100/100\n",
      "27/28 [===========================>..] - ETA: 0s - loss: 3.3598e-04 - accuracy: 1.0000\n",
      "Epoch 100: val_loss did not improve from 0.00129\n",
      "28/28 [==============================] - 0s 17ms/step - loss: 3.4643e-04 - accuracy: 1.0000 - val_loss: 0.0013 - val_accuracy: 1.0000\n"
     ]
    }
   ],
   "source": [
    "file_path = r\"C:\\Users\\MA51801\\Documents\\Projects\\Sudoku_Project\\digit_classifier_model\\digit_classifier_vgg16.hdf5\"\n",
    "checkpoint = ModelCheckpoint(file_path, monitor='val_loss', verbose=1, save_best_only=True, mode='min')\n",
    "with tf.device('/GPU:0'):\n",
    "    training = model.fit(train_ds,epochs = 100 ,validation_data= val_ds, callbacks=[checkpoint],class_weight=class_weights)"
   ]
  },
  {
   "cell_type": "code",
   "execution_count": 55,
   "id": "6f4e4835-5941-4148-b97c-4f3fe7f6ec9b",
   "metadata": {},
   "outputs": [
    {
     "name": "stdout",
     "output_type": "stream",
     "text": [
      "tf.Tensor(6, shape=(), dtype=int64)\n",
      "1/1 - 0s - 119ms/epoch - 119ms/step\n",
      "tf.Tensor(0, shape=(), dtype=int64)\n",
      "1/1 - 0s - 21ms/epoch - 21ms/step\n",
      "tf.Tensor(9, shape=(), dtype=int64)\n",
      "1/1 - 0s - 20ms/epoch - 20ms/step\n",
      "tf.Tensor(4, shape=(), dtype=int64)\n",
      "1/1 - 0s - 20ms/epoch - 20ms/step\n",
      "tf.Tensor(0, shape=(), dtype=int64)\n",
      "1/1 - 0s - 19ms/epoch - 19ms/step\n",
      "tf.Tensor(9, shape=(), dtype=int64)\n",
      "1/1 - 0s - 22ms/epoch - 22ms/step\n",
      "tf.Tensor(3, shape=(), dtype=int64)\n",
      "1/1 - 0s - 21ms/epoch - 21ms/step\n",
      "tf.Tensor(5, shape=(), dtype=int64)\n",
      "1/1 - 0s - 23ms/epoch - 23ms/step\n"
     ]
    },
    {
     "data": {
      "text/html": [
       "<div>\n",
       "<style scoped>\n",
       "    .dataframe tbody tr th:only-of-type {\n",
       "        vertical-align: middle;\n",
       "    }\n",
       "\n",
       "    .dataframe tbody tr th {\n",
       "        vertical-align: top;\n",
       "    }\n",
       "\n",
       "    .dataframe thead th {\n",
       "        text-align: right;\n",
       "    }\n",
       "</style>\n",
       "<table border=\"1\" class=\"dataframe\">\n",
       "  <thead>\n",
       "    <tr style=\"text-align: right;\">\n",
       "      <th>col_0</th>\n",
       "      <th>0</th>\n",
       "      <th>1</th>\n",
       "      <th>2</th>\n",
       "      <th>3</th>\n",
       "      <th>4</th>\n",
       "      <th>5</th>\n",
       "      <th>6</th>\n",
       "      <th>7</th>\n",
       "      <th>8</th>\n",
       "      <th>9</th>\n",
       "      <th>All</th>\n",
       "    </tr>\n",
       "    <tr>\n",
       "      <th>row_0</th>\n",
       "      <th></th>\n",
       "      <th></th>\n",
       "      <th></th>\n",
       "      <th></th>\n",
       "      <th></th>\n",
       "      <th></th>\n",
       "      <th></th>\n",
       "      <th></th>\n",
       "      <th></th>\n",
       "      <th></th>\n",
       "      <th></th>\n",
       "    </tr>\n",
       "  </thead>\n",
       "  <tbody>\n",
       "    <tr>\n",
       "      <th>0</th>\n",
       "      <td>16</td>\n",
       "      <td>0</td>\n",
       "      <td>0</td>\n",
       "      <td>0</td>\n",
       "      <td>0</td>\n",
       "      <td>0</td>\n",
       "      <td>0</td>\n",
       "      <td>0</td>\n",
       "      <td>0</td>\n",
       "      <td>0</td>\n",
       "      <td>16</td>\n",
       "    </tr>\n",
       "    <tr>\n",
       "      <th>1</th>\n",
       "      <td>0</td>\n",
       "      <td>8</td>\n",
       "      <td>0</td>\n",
       "      <td>0</td>\n",
       "      <td>0</td>\n",
       "      <td>0</td>\n",
       "      <td>0</td>\n",
       "      <td>1</td>\n",
       "      <td>0</td>\n",
       "      <td>0</td>\n",
       "      <td>9</td>\n",
       "    </tr>\n",
       "    <tr>\n",
       "      <th>2</th>\n",
       "      <td>0</td>\n",
       "      <td>0</td>\n",
       "      <td>15</td>\n",
       "      <td>0</td>\n",
       "      <td>0</td>\n",
       "      <td>0</td>\n",
       "      <td>0</td>\n",
       "      <td>0</td>\n",
       "      <td>0</td>\n",
       "      <td>0</td>\n",
       "      <td>15</td>\n",
       "    </tr>\n",
       "    <tr>\n",
       "      <th>3</th>\n",
       "      <td>0</td>\n",
       "      <td>0</td>\n",
       "      <td>0</td>\n",
       "      <td>15</td>\n",
       "      <td>0</td>\n",
       "      <td>0</td>\n",
       "      <td>0</td>\n",
       "      <td>0</td>\n",
       "      <td>0</td>\n",
       "      <td>0</td>\n",
       "      <td>15</td>\n",
       "    </tr>\n",
       "    <tr>\n",
       "      <th>4</th>\n",
       "      <td>0</td>\n",
       "      <td>0</td>\n",
       "      <td>0</td>\n",
       "      <td>0</td>\n",
       "      <td>11</td>\n",
       "      <td>0</td>\n",
       "      <td>0</td>\n",
       "      <td>0</td>\n",
       "      <td>0</td>\n",
       "      <td>0</td>\n",
       "      <td>11</td>\n",
       "    </tr>\n",
       "    <tr>\n",
       "      <th>5</th>\n",
       "      <td>0</td>\n",
       "      <td>0</td>\n",
       "      <td>0</td>\n",
       "      <td>0</td>\n",
       "      <td>0</td>\n",
       "      <td>7</td>\n",
       "      <td>0</td>\n",
       "      <td>0</td>\n",
       "      <td>0</td>\n",
       "      <td>0</td>\n",
       "      <td>7</td>\n",
       "    </tr>\n",
       "    <tr>\n",
       "      <th>6</th>\n",
       "      <td>0</td>\n",
       "      <td>0</td>\n",
       "      <td>0</td>\n",
       "      <td>0</td>\n",
       "      <td>0</td>\n",
       "      <td>0</td>\n",
       "      <td>12</td>\n",
       "      <td>0</td>\n",
       "      <td>0</td>\n",
       "      <td>0</td>\n",
       "      <td>12</td>\n",
       "    </tr>\n",
       "    <tr>\n",
       "      <th>7</th>\n",
       "      <td>0</td>\n",
       "      <td>0</td>\n",
       "      <td>0</td>\n",
       "      <td>0</td>\n",
       "      <td>0</td>\n",
       "      <td>0</td>\n",
       "      <td>0</td>\n",
       "      <td>8</td>\n",
       "      <td>0</td>\n",
       "      <td>0</td>\n",
       "      <td>8</td>\n",
       "    </tr>\n",
       "    <tr>\n",
       "      <th>8</th>\n",
       "      <td>0</td>\n",
       "      <td>0</td>\n",
       "      <td>0</td>\n",
       "      <td>0</td>\n",
       "      <td>0</td>\n",
       "      <td>0</td>\n",
       "      <td>0</td>\n",
       "      <td>0</td>\n",
       "      <td>13</td>\n",
       "      <td>0</td>\n",
       "      <td>13</td>\n",
       "    </tr>\n",
       "    <tr>\n",
       "      <th>9</th>\n",
       "      <td>0</td>\n",
       "      <td>0</td>\n",
       "      <td>0</td>\n",
       "      <td>1</td>\n",
       "      <td>0</td>\n",
       "      <td>0</td>\n",
       "      <td>0</td>\n",
       "      <td>0</td>\n",
       "      <td>0</td>\n",
       "      <td>11</td>\n",
       "      <td>12</td>\n",
       "    </tr>\n",
       "    <tr>\n",
       "      <th>All</th>\n",
       "      <td>16</td>\n",
       "      <td>8</td>\n",
       "      <td>15</td>\n",
       "      <td>16</td>\n",
       "      <td>11</td>\n",
       "      <td>7</td>\n",
       "      <td>12</td>\n",
       "      <td>9</td>\n",
       "      <td>13</td>\n",
       "      <td>11</td>\n",
       "      <td>118</td>\n",
       "    </tr>\n",
       "  </tbody>\n",
       "</table>\n",
       "</div>"
      ],
      "text/plain": [
       "col_0   0  1   2   3   4  5   6  7   8   9  All\n",
       "row_0                                          \n",
       "0      16  0   0   0   0  0   0  0   0   0   16\n",
       "1       0  8   0   0   0  0   0  1   0   0    9\n",
       "2       0  0  15   0   0  0   0  0   0   0   15\n",
       "3       0  0   0  15   0  0   0  0   0   0   15\n",
       "4       0  0   0   0  11  0   0  0   0   0   11\n",
       "5       0  0   0   0   0  7   0  0   0   0    7\n",
       "6       0  0   0   0   0  0  12  0   0   0   12\n",
       "7       0  0   0   0   0  0   0  8   0   0    8\n",
       "8       0  0   0   0   0  0   0  0  13   0   13\n",
       "9       0  0   0   1   0  0   0  0   0  11   12\n",
       "All    16  8  15  16  11  7  12  9  13  11  118"
      ]
     },
     "execution_count": 55,
     "metadata": {},
     "output_type": "execute_result"
    }
   ],
   "source": [
    "labels, predictions, imgs = create_pred_test_series_data(val_ds,model)\n",
    "\n",
    "pd.crosstab(labels, predictions , margins = True)"
   ]
  },
  {
   "cell_type": "code",
   "execution_count": 225,
   "id": "7039e3d4-fb48-42a3-baa5-5f7b97e45d10",
   "metadata": {},
   "outputs": [
    {
     "data": {
      "text/plain": [
       "(array([48], dtype=int64),)"
      ]
     },
     "execution_count": 225,
     "metadata": {},
     "output_type": "execute_result"
    }
   ],
   "source": [
    "np.where(labels != predictions)"
   ]
  },
  {
   "cell_type": "code",
   "execution_count": 226,
   "id": "ae97df89-d455-4cf5-919b-40b41f3426b0",
   "metadata": {},
   "outputs": [
    {
     "name": "stdout",
     "output_type": "stream",
     "text": [
      "1\n"
     ]
    },
    {
     "data": {
      "image/png": "[encoded data removed]",
      "text/plain": [
       "<Figure size 640x480 with 1 Axes>"
      ]
     },
     "metadata": {},
     "output_type": "display_data"
    }
   ],
   "source": [
    "im_index = 48\n",
    "plt.imshow(imgs[im_index],cmap='gray')\n",
    "print(predictions[im_index])"
   ]
  },
  {
   "cell_type": "code",
   "execution_count": 227,
   "id": "6cfe82ba-9ae7-4d71-b928-38bfe509dc4f",
   "metadata": {},
   "outputs": [
    {
     "name": "stdout",
     "output_type": "stream",
     "text": [
      "1\n"
     ]
    }
   ],
   "source": [
    "print(predictions[im_index])"
   ]
  },
  {
   "cell_type": "code",
   "execution_count": 57,
   "id": "5c4295a5-6256-45b8-aa38-442ddd6b08c5",
   "metadata": {},
   "outputs": [
    {
     "data": {
      "text/plain": [
       "<matplotlib.image.AxesImage at 0x254253a9190>"
      ]
     },
     "execution_count": 57,
     "metadata": {},
     "output_type": "execute_result"
    },
    {
     "data": {
      "image/png": "[encoded data removed]",
      "text/plain": [
       "<Figure size 640x480 with 1 Axes>"
      ]
     },
     "metadata": {},
     "output_type": "display_data"
    }
   ],
   "source": [
    "plt.imshow(imgs[4],cmap='gray')"
   ]
  },
  {
   "cell_type": "code",
   "execution_count": 45,
   "id": "e3e0a1f1-c801-4ce6-8969-773f8c852632",
   "metadata": {},
   "outputs": [],
   "source": [
    "# opt = keras.optimizers.SGD(learning_rate=0.01, momentum = 0.8)\n",
    "# resnet_model = Sequential()\n",
    "# # resnet_model.add(tf.keras.layers.BatchNormalization())\n",
    "# pretrained_model = ResNet50(include_top = False, weights='imagenet', input_shape=(28,28,1),pooling='avg',classes=10)\n",
    "# for layer in pretrained_model.layers:\n",
    "#         layer.trainable=False\n",
    "# resnet_model.add(pretrained_model)\n",
    "# resnet_model.add(tf.keras.layers.Flatten())\n",
    "# resnet_model.add(tf.keras.layers.Dense(32, activation = 'relu'))\n",
    "# resnet_model.add( tf.keras.layers.Dense(10,activation = 'softmax'))\n",
    "# resnet_model.compile(optimizer = 'adam', loss =tf.keras.losses.SparseCategoricalCrossentropy(from_logits=False) , metrics = ['accuracy'])\n"
   ]
  },
  {
   "cell_type": "code",
   "execution_count": 44,
   "id": "04e063a1-5e41-4bc7-a064-682c1b14e741",
   "metadata": {},
   "outputs": [],
   "source": [
    "# with tf.device('/GPU:0'):\n",
    "#     training = resnet_model.fit(train_ds,epochs = 40 ,validation_data= val_ds)"
   ]
  },
  {
   "cell_type": "code",
   "execution_count": 1,
   "id": "45509dd8-fc80-4a2a-9bb1-740cbc51618c",
   "metadata": {},
   "outputs": [],
   "source": [
    "# mnist_model = Sequential()\n",
    "# pretrained_model=  Sequential([hub.KerasLayer(\"https://tfhub.dev/tensorflow/tfgan/eval/mnist/logits/1\",  input_shape=(28 , 28,1))])\n",
    "# for layer in pretrained_model.layers:\n",
    "#     layer.trainable=False\n",
    "# mnist_model.add(pretrained_model)\n",
    "# mnist_model.add(tf.keras.layers.Flatten())\n",
    "# # mobile_net.add(Dense(64, activation = 'relu'))\n",
    "# mnist_model.add(tf.keras.layers.Dense(10, activation = 'softmax'))\n",
    "# mnist_model.compile(optimizer = 'adam',loss =tf.keras.losses.SparseCategoricalCrossentropy(from_logits=False) , metrics = ['accuracy'])\n",
    "# mnist_model.summary()"
   ]
  },
  {
   "cell_type": "code",
   "execution_count": 2,
   "id": "890c17b7-03ac-4f84-910d-5bdb3c2e1544",
   "metadata": {},
   "outputs": [],
   "source": [
    "# with tf.device('/GPU:0'):\n",
    "#     training = mnist_model.fit(train_ds,epochs = 200 ,validation_data= val_ds)"
   ]
  },
  {
   "cell_type": "markdown",
   "id": "e844a923-fdde-47ae-a21a-e9759577c8e4",
   "metadata": {},
   "source": [
    "# Train on MNIST data Validate on Blockbuster Sudoku Images"
   ]
  },
  {
   "cell_type": "code",
   "execution_count": 21,
   "id": "b3f7724a-1c14-44d3-adcc-2e587f88643d",
   "metadata": {},
   "outputs": [],
   "source": [
    "# Load MNIST dataset\n",
    "(x_train, y_train), (x_test_mnist, y_test_mnist) = tf.keras.datasets.mnist.load_data()\n",
    "# Normalize Mnist Images\n",
    "x_train = x_train/255\n",
    "# Invert Black and White In Order To align with Blockbuster Sudoku Dataset\n",
    "x_train = 1 -x_train\n",
    "x_train = np.array([add_border(img,2) for img in x_train])"
   ]
  },
  {
   "cell_type": "markdown",
   "id": "04492170-9e18-4ed3-971d-534efc4e8689",
   "metadata": {},
   "source": [
    "### Need to turn Blockbuster Sudoku Image and Labels into MNIST For"
   ]
  },
  {
   "cell_type": "code",
   "execution_count": 32,
   "id": "06ba4248-a025-487c-b466-ca32db68b801",
   "metadata": {},
   "outputs": [],
   "source": [
    "x_test_1, y_test_1 = convert_dir_ds_to_numpy(train_ds)\n",
    "x_test_2, y_test_2 = convert_dir_ds_to_numpy(val_ds)\n",
    "x_test = np.concatenate([x_test_1, x_test_2], axis =0)\n",
    "y_test = np.concatenate([y_test_1, y_test_2], axis =0)\n",
    "x_test = np.array([add_border(img,3) for img in x_test])"
   ]
  },
  {
   "cell_type": "markdown",
   "id": "2feb5018-f9bd-43de-8d5d-cc2f6c927dfc",
   "metadata": {},
   "source": [
    "### Example Test Image From Blockbuster Sudoku"
   ]
  },
  {
   "cell_type": "code",
   "execution_count": 33,
   "id": "1eb5c0c3-09a7-490e-820f-fe96b7455381",
   "metadata": {},
   "outputs": [
    {
     "data": {
      "image/png": "[encoded data removed]",
      "text/plain": [
       "<Figure size 640x480 with 1 Axes>"
      ]
     },
     "metadata": {},
     "output_type": "display_data"
    }
   ],
   "source": [
    "im_index = 7\n",
    "plt.imshow(x_test[im_index],cmap='gray')\n",
    "plt.title(y_test[im_index])\n",
    "plt.tight_layout()"
   ]
  },
  {
   "cell_type": "code",
   "execution_count": 34,
   "id": "bed67cbc-05db-4233-83ce-5e6a0bde7c8b",
   "metadata": {},
   "outputs": [
    {
     "data": {
      "text/plain": [
       "<matplotlib.image.AxesImage at 0x25a9fac6d30>"
      ]
     },
     "execution_count": 34,
     "metadata": {},
     "output_type": "execute_result"
    },
    {
     "data": {
      "image/png": "[encoded data removed]",
      "text/plain": [
       "<Figure size 640x480 with 1 Axes>"
      ]
     },
     "metadata": {},
     "output_type": "display_data"
    }
   ],
   "source": [
    "def add_border(img, border_size = 4 ,border_color = 1):\n",
    "    img = img.copy()\n",
    "    # make Left Column Black\n",
    "    img[0:img.shape[0], 0:border_size] = border_color\n",
    "    # make Right Column Black\n",
    "    img[0:img.shape[0], (img.shape[1]-border_size):img.shape[1]] = border_color\n",
    "    # make top rows Black\n",
    "    img[0:border_size, 0:img.shape[1]] = border_color\n",
    "    #make bottom rows black\n",
    "    img[(img.shape[0]-border_size):img.shape[0],0:img.shape[1]] = border_color\n",
    "    return img\n",
    "test_img = add_border(x_train[im_index], border_size = 4)\n",
    "\n",
    "plt.imshow(test_img,cmap='gray')"
   ]
  },
  {
   "cell_type": "code",
   "execution_count": 66,
   "id": "0b8aa8c4-d5d0-4992-b593-c6835cf00354",
   "metadata": {},
   "outputs": [
    {
     "name": "stdout",
     "output_type": "stream",
     "text": [
      "No Taco\n"
     ]
    }
   ],
   "source": [
    "taco = None\n",
    "if not taco:\n",
    "    print('No Taco')"
   ]
  },
  {
   "cell_type": "code",
   "execution_count": 35,
   "id": "de67b375-4457-4c61-bb80-e00fcd2a91bd",
   "metadata": {},
   "outputs": [
    {
     "data": {
      "image/png": "[encoded data removed]",
      "text/plain": [
       "<Figure size 640x480 with 1 Axes>"
      ]
     },
     "metadata": {},
     "output_type": "display_data"
    }
   ],
   "source": [
    "im_index = 304\n",
    "plt.imshow(x_train[im_index],cmap = 'gray')\n",
    "plt.title(y_train[im_index])\n",
    "plt.tight_layout()"
   ]
  },
  {
   "cell_type": "markdown",
   "id": "199ac967-f0dd-46f9-a13d-72bf2cf04721",
   "metadata": {},
   "source": [
    "### Use Same Architecture as Before"
   ]
  },
  {
   "cell_type": "code",
   "execution_count": 36,
   "id": "d1b62aed-27ed-4927-b0a6-8f58125001d7",
   "metadata": {},
   "outputs": [],
   "source": [
    "num_classes = 10\n",
    "model = tf.keras.Sequential([\n",
    "  tf.keras.layers.Reshape((28, 28, 1), input_shape=(28, 28)),\n",
    "  tf.keras.layers.Conv2D(32, 3, activation='relu', padding='same'),\n",
    "  tf.keras.layers.BatchNormalization(),\n",
    "  tf.keras.layers.Conv2D(32, 3, activation='relu', padding='same'),\n",
    "  tf.keras.layers.BatchNormalization(),\n",
    "  tf.keras.layers.MaxPooling2D(pool_size=(2, 2)),\n",
    "  tf.keras.layers.Dropout(0.25),\n",
    "  tf.keras.layers.Conv2D(64, 3, activation='relu', padding='same'),\n",
    "  tf.keras.layers.BatchNormalization(),\n",
    "  tf.keras.layers.Conv2D(64, 3, activation='relu', padding='same'),\n",
    "  tf.keras.layers.BatchNormalization(),\n",
    "  tf.keras.layers.MaxPooling2D(pool_size=(2, 2)),\n",
    "  tf.keras.layers.Dropout(0.25),\n",
    "  tf.keras.layers.Flatten(),\n",
    "  tf.keras.layers.Dense(512, activation='relu'),\n",
    "  tf.keras.layers.BatchNormalization(),\n",
    "  tf.keras.layers.Dropout(0.5),\n",
    "  tf.keras.layers.Dense(num_classes,activation = 'softmax')\n",
    "])\n",
    "# tf.keras.losses.SparseCategoricalCrossentropy(from_logits=True)\n",
    "model.compile(\n",
    "  optimizer='adam',\n",
    "  loss=tf.keras.losses.SparseCategoricalCrossentropy(from_logits=False),\n",
    "  metrics=['accuracy'])"
   ]
  },
  {
   "cell_type": "code",
   "execution_count": 37,
   "id": "30b046b7-7ed4-419f-80d4-e32db7fc0514",
   "metadata": {},
   "outputs": [
    {
     "name": "stdout",
     "output_type": "stream",
     "text": [
      "Epoch 1/5\n",
      "1875/1875 [==============================] - ETA: 0s - loss: 0.1458 - accuracy: 0.9552\n",
      "Epoch 1: val_accuracy improved from -inf to 0.73086, saving model to C:\\Users\\MA51801\\Documents\\Projects\\Sudoku_Project\\digit_classifier_model\\digit_classifier_mnist_train.hdf5\n",
      "1875/1875 [==============================] - 170s 90ms/step - loss: 0.1458 - accuracy: 0.9552 - val_loss: 1.2484 - val_accuracy: 0.7309\n",
      "Epoch 2/5\n",
      "1875/1875 [==============================] - ETA: 0s - loss: 0.0692 - accuracy: 0.9795\n",
      "Epoch 2: val_accuracy improved from 0.73086 to 0.76102, saving model to C:\\Users\\MA51801\\Documents\\Projects\\Sudoku_Project\\digit_classifier_model\\digit_classifier_mnist_train.hdf5\n",
      "1875/1875 [==============================] - 171s 91ms/step - loss: 0.0692 - accuracy: 0.9795 - val_loss: 0.9874 - val_accuracy: 0.7610\n",
      "Epoch 3/5\n",
      "1875/1875 [==============================] - ETA: 0s - loss: 0.0538 - accuracy: 0.9832\n",
      "Epoch 3: val_accuracy improved from 0.76102 to 0.80278, saving model to C:\\Users\\MA51801\\Documents\\Projects\\Sudoku_Project\\digit_classifier_model\\digit_classifier_mnist_train.hdf5\n",
      "1875/1875 [==============================] - 170s 91ms/step - loss: 0.0538 - accuracy: 0.9832 - val_loss: 0.8818 - val_accuracy: 0.8028\n",
      "Epoch 4/5\n",
      "1875/1875 [==============================] - ETA: 0s - loss: 0.0504 - accuracy: 0.9850\n",
      "Epoch 4: val_accuracy did not improve from 0.80278\n",
      "1875/1875 [==============================] - 179s 95ms/step - loss: 0.0504 - accuracy: 0.9850 - val_loss: 3.0929 - val_accuracy: 0.7355\n",
      "Epoch 5/5\n",
      " 198/1875 [==>...........................] - ETA: 2:35 - loss: 0.0480 - accuracy: 0.9869"
     ]
    },
    {
     "ename": "KeyboardInterrupt",
     "evalue": "",
     "output_type": "error",
     "traceback": [
      "\u001b[1;31m---------------------------------------------------------------------------\u001b[0m",
      "\u001b[1;31mKeyboardInterrupt\u001b[0m                         Traceback (most recent call last)",
      "Cell \u001b[1;32mIn [37], line 4\u001b[0m\n\u001b[0;32m      2\u001b[0m checkpoint \u001b[38;5;241m=\u001b[39m ModelCheckpoint(file_path, monitor\u001b[38;5;241m=\u001b[39m\u001b[38;5;124m'\u001b[39m\u001b[38;5;124mval_accuracy\u001b[39m\u001b[38;5;124m'\u001b[39m, verbose\u001b[38;5;241m=\u001b[39m\u001b[38;5;241m1\u001b[39m, save_best_only\u001b[38;5;241m=\u001b[39m\u001b[38;5;28;01mTrue\u001b[39;00m, mode\u001b[38;5;241m=\u001b[39m\u001b[38;5;124m'\u001b[39m\u001b[38;5;124mmax\u001b[39m\u001b[38;5;124m'\u001b[39m)\n\u001b[0;32m      3\u001b[0m \u001b[38;5;28;01mwith\u001b[39;00m tf\u001b[38;5;241m.\u001b[39mdevice(\u001b[38;5;124m'\u001b[39m\u001b[38;5;124m/GPU:0\u001b[39m\u001b[38;5;124m'\u001b[39m):\n\u001b[1;32m----> 4\u001b[0m     training \u001b[38;5;241m=\u001b[39m \u001b[43mmodel\u001b[49m\u001b[38;5;241;43m.\u001b[39;49m\u001b[43mfit\u001b[49m\u001b[43m(\u001b[49m\u001b[43mx_train\u001b[49m\u001b[43m,\u001b[49m\u001b[43my_train\u001b[49m\u001b[43m,\u001b[49m\u001b[43mepochs\u001b[49m\u001b[43m \u001b[49m\u001b[38;5;241;43m=\u001b[39;49m\u001b[43m \u001b[49m\u001b[38;5;241;43m5\u001b[39;49m\u001b[43m \u001b[49m\u001b[43m,\u001b[49m\u001b[43mvalidation_data\u001b[49m\u001b[38;5;241;43m=\u001b[39;49m\u001b[43m \u001b[49m\u001b[43m(\u001b[49m\u001b[43mx_test\u001b[49m\u001b[43m,\u001b[49m\u001b[43my_test\u001b[49m\u001b[43m)\u001b[49m\u001b[43m,\u001b[49m\u001b[43m \u001b[49m\u001b[43mcallbacks\u001b[49m\u001b[38;5;241;43m=\u001b[39;49m\u001b[43m[\u001b[49m\u001b[43mcheckpoint\u001b[49m\u001b[43m]\u001b[49m\u001b[43m)\u001b[49m\n",
      "File \u001b[1;32m~\\Documents\\Projects\\computervision\\venv\\lib\\site-packages\\keras\\utils\\traceback_utils.py:65\u001b[0m, in \u001b[0;36mfilter_traceback.<locals>.error_handler\u001b[1;34m(*args, **kwargs)\u001b[0m\n\u001b[0;32m     63\u001b[0m filtered_tb \u001b[38;5;241m=\u001b[39m \u001b[38;5;28;01mNone\u001b[39;00m\n\u001b[0;32m     64\u001b[0m \u001b[38;5;28;01mtry\u001b[39;00m:\n\u001b[1;32m---> 65\u001b[0m     \u001b[38;5;28;01mreturn\u001b[39;00m fn(\u001b[38;5;241m*\u001b[39margs, \u001b[38;5;241m*\u001b[39m\u001b[38;5;241m*\u001b[39mkwargs)\n\u001b[0;32m     66\u001b[0m \u001b[38;5;28;01mexcept\u001b[39;00m \u001b[38;5;167;01mException\u001b[39;00m \u001b[38;5;28;01mas\u001b[39;00m e:\n\u001b[0;32m     67\u001b[0m     filtered_tb \u001b[38;5;241m=\u001b[39m _process_traceback_frames(e\u001b[38;5;241m.\u001b[39m__traceback__)\n",
      "File \u001b[1;32m~\\Documents\\Projects\\computervision\\venv\\lib\\site-packages\\keras\\engine\\training.py:1564\u001b[0m, in \u001b[0;36mModel.fit\u001b[1;34m(self, x, y, batch_size, epochs, verbose, callbacks, validation_split, validation_data, shuffle, class_weight, sample_weight, initial_epoch, steps_per_epoch, validation_steps, validation_batch_size, validation_freq, max_queue_size, workers, use_multiprocessing)\u001b[0m\n\u001b[0;32m   1556\u001b[0m \u001b[38;5;28;01mwith\u001b[39;00m tf\u001b[38;5;241m.\u001b[39mprofiler\u001b[38;5;241m.\u001b[39mexperimental\u001b[38;5;241m.\u001b[39mTrace(\n\u001b[0;32m   1557\u001b[0m     \u001b[38;5;124m\"\u001b[39m\u001b[38;5;124mtrain\u001b[39m\u001b[38;5;124m\"\u001b[39m,\n\u001b[0;32m   1558\u001b[0m     epoch_num\u001b[38;5;241m=\u001b[39mepoch,\n\u001b[1;32m   (...)\u001b[0m\n\u001b[0;32m   1561\u001b[0m     _r\u001b[38;5;241m=\u001b[39m\u001b[38;5;241m1\u001b[39m,\n\u001b[0;32m   1562\u001b[0m ):\n\u001b[0;32m   1563\u001b[0m     callbacks\u001b[38;5;241m.\u001b[39mon_train_batch_begin(step)\n\u001b[1;32m-> 1564\u001b[0m     tmp_logs \u001b[38;5;241m=\u001b[39m \u001b[38;5;28;43mself\u001b[39;49m\u001b[38;5;241;43m.\u001b[39;49m\u001b[43mtrain_function\u001b[49m\u001b[43m(\u001b[49m\u001b[43miterator\u001b[49m\u001b[43m)\u001b[49m\n\u001b[0;32m   1565\u001b[0m     \u001b[38;5;28;01mif\u001b[39;00m data_handler\u001b[38;5;241m.\u001b[39mshould_sync:\n\u001b[0;32m   1566\u001b[0m         context\u001b[38;5;241m.\u001b[39masync_wait()\n",
      "File \u001b[1;32m~\\Documents\\Projects\\computervision\\venv\\lib\\site-packages\\tensorflow\\python\\util\\traceback_utils.py:150\u001b[0m, in \u001b[0;36mfilter_traceback.<locals>.error_handler\u001b[1;34m(*args, **kwargs)\u001b[0m\n\u001b[0;32m    148\u001b[0m filtered_tb \u001b[38;5;241m=\u001b[39m \u001b[38;5;28;01mNone\u001b[39;00m\n\u001b[0;32m    149\u001b[0m \u001b[38;5;28;01mtry\u001b[39;00m:\n\u001b[1;32m--> 150\u001b[0m   \u001b[38;5;28;01mreturn\u001b[39;00m fn(\u001b[38;5;241m*\u001b[39margs, \u001b[38;5;241m*\u001b[39m\u001b[38;5;241m*\u001b[39mkwargs)\n\u001b[0;32m    151\u001b[0m \u001b[38;5;28;01mexcept\u001b[39;00m \u001b[38;5;167;01mException\u001b[39;00m \u001b[38;5;28;01mas\u001b[39;00m e:\n\u001b[0;32m    152\u001b[0m   filtered_tb \u001b[38;5;241m=\u001b[39m _process_traceback_frames(e\u001b[38;5;241m.\u001b[39m__traceback__)\n",
      "File \u001b[1;32m~\\Documents\\Projects\\computervision\\venv\\lib\\site-packages\\tensorflow\\python\\eager\\def_function.py:915\u001b[0m, in \u001b[0;36mFunction.__call__\u001b[1;34m(self, *args, **kwds)\u001b[0m\n\u001b[0;32m    912\u001b[0m compiler \u001b[38;5;241m=\u001b[39m \u001b[38;5;124m\"\u001b[39m\u001b[38;5;124mxla\u001b[39m\u001b[38;5;124m\"\u001b[39m \u001b[38;5;28;01mif\u001b[39;00m \u001b[38;5;28mself\u001b[39m\u001b[38;5;241m.\u001b[39m_jit_compile \u001b[38;5;28;01melse\u001b[39;00m \u001b[38;5;124m\"\u001b[39m\u001b[38;5;124mnonXla\u001b[39m\u001b[38;5;124m\"\u001b[39m\n\u001b[0;32m    914\u001b[0m \u001b[38;5;28;01mwith\u001b[39;00m OptionalXlaContext(\u001b[38;5;28mself\u001b[39m\u001b[38;5;241m.\u001b[39m_jit_compile):\n\u001b[1;32m--> 915\u001b[0m   result \u001b[38;5;241m=\u001b[39m \u001b[38;5;28mself\u001b[39m\u001b[38;5;241m.\u001b[39m_call(\u001b[38;5;241m*\u001b[39margs, \u001b[38;5;241m*\u001b[39m\u001b[38;5;241m*\u001b[39mkwds)\n\u001b[0;32m    917\u001b[0m new_tracing_count \u001b[38;5;241m=\u001b[39m \u001b[38;5;28mself\u001b[39m\u001b[38;5;241m.\u001b[39mexperimental_get_tracing_count()\n\u001b[0;32m    918\u001b[0m without_tracing \u001b[38;5;241m=\u001b[39m (tracing_count \u001b[38;5;241m==\u001b[39m new_tracing_count)\n",
      "File \u001b[1;32m~\\Documents\\Projects\\computervision\\venv\\lib\\site-packages\\tensorflow\\python\\eager\\def_function.py:947\u001b[0m, in \u001b[0;36mFunction._call\u001b[1;34m(self, *args, **kwds)\u001b[0m\n\u001b[0;32m    944\u001b[0m   \u001b[38;5;28mself\u001b[39m\u001b[38;5;241m.\u001b[39m_lock\u001b[38;5;241m.\u001b[39mrelease()\n\u001b[0;32m    945\u001b[0m   \u001b[38;5;66;03m# In this case we have created variables on the first call, so we run the\u001b[39;00m\n\u001b[0;32m    946\u001b[0m   \u001b[38;5;66;03m# defunned version which is guaranteed to never create variables.\u001b[39;00m\n\u001b[1;32m--> 947\u001b[0m   \u001b[38;5;28;01mreturn\u001b[39;00m \u001b[38;5;28mself\u001b[39m\u001b[38;5;241m.\u001b[39m_stateless_fn(\u001b[38;5;241m*\u001b[39margs, \u001b[38;5;241m*\u001b[39m\u001b[38;5;241m*\u001b[39mkwds)  \u001b[38;5;66;03m# pylint: disable=not-callable\u001b[39;00m\n\u001b[0;32m    948\u001b[0m \u001b[38;5;28;01melif\u001b[39;00m \u001b[38;5;28mself\u001b[39m\u001b[38;5;241m.\u001b[39m_stateful_fn \u001b[38;5;129;01mis\u001b[39;00m \u001b[38;5;129;01mnot\u001b[39;00m \u001b[38;5;28;01mNone\u001b[39;00m:\n\u001b[0;32m    949\u001b[0m   \u001b[38;5;66;03m# Release the lock early so that multiple threads can perform the call\u001b[39;00m\n\u001b[0;32m    950\u001b[0m   \u001b[38;5;66;03m# in parallel.\u001b[39;00m\n\u001b[0;32m    951\u001b[0m   \u001b[38;5;28mself\u001b[39m\u001b[38;5;241m.\u001b[39m_lock\u001b[38;5;241m.\u001b[39mrelease()\n",
      "File \u001b[1;32m~\\Documents\\Projects\\computervision\\venv\\lib\\site-packages\\tensorflow\\python\\eager\\function.py:2496\u001b[0m, in \u001b[0;36mFunction.__call__\u001b[1;34m(self, *args, **kwargs)\u001b[0m\n\u001b[0;32m   2493\u001b[0m \u001b[38;5;28;01mwith\u001b[39;00m \u001b[38;5;28mself\u001b[39m\u001b[38;5;241m.\u001b[39m_lock:\n\u001b[0;32m   2494\u001b[0m   (graph_function,\n\u001b[0;32m   2495\u001b[0m    filtered_flat_args) \u001b[38;5;241m=\u001b[39m \u001b[38;5;28mself\u001b[39m\u001b[38;5;241m.\u001b[39m_maybe_define_function(args, kwargs)\n\u001b[1;32m-> 2496\u001b[0m \u001b[38;5;28;01mreturn\u001b[39;00m \u001b[43mgraph_function\u001b[49m\u001b[38;5;241;43m.\u001b[39;49m\u001b[43m_call_flat\u001b[49m\u001b[43m(\u001b[49m\n\u001b[0;32m   2497\u001b[0m \u001b[43m    \u001b[49m\u001b[43mfiltered_flat_args\u001b[49m\u001b[43m,\u001b[49m\u001b[43m \u001b[49m\u001b[43mcaptured_inputs\u001b[49m\u001b[38;5;241;43m=\u001b[39;49m\u001b[43mgraph_function\u001b[49m\u001b[38;5;241;43m.\u001b[39;49m\u001b[43mcaptured_inputs\u001b[49m\u001b[43m)\u001b[49m\n",
      "File \u001b[1;32m~\\Documents\\Projects\\computervision\\venv\\lib\\site-packages\\tensorflow\\python\\eager\\function.py:1862\u001b[0m, in \u001b[0;36mConcreteFunction._call_flat\u001b[1;34m(self, args, captured_inputs, cancellation_manager)\u001b[0m\n\u001b[0;32m   1858\u001b[0m possible_gradient_type \u001b[38;5;241m=\u001b[39m gradients_util\u001b[38;5;241m.\u001b[39mPossibleTapeGradientTypes(args)\n\u001b[0;32m   1859\u001b[0m \u001b[38;5;28;01mif\u001b[39;00m (possible_gradient_type \u001b[38;5;241m==\u001b[39m gradients_util\u001b[38;5;241m.\u001b[39mPOSSIBLE_GRADIENT_TYPES_NONE\n\u001b[0;32m   1860\u001b[0m     \u001b[38;5;129;01mand\u001b[39;00m executing_eagerly):\n\u001b[0;32m   1861\u001b[0m   \u001b[38;5;66;03m# No tape is watching; skip to running the function.\u001b[39;00m\n\u001b[1;32m-> 1862\u001b[0m   \u001b[38;5;28;01mreturn\u001b[39;00m \u001b[38;5;28mself\u001b[39m\u001b[38;5;241m.\u001b[39m_build_call_outputs(\u001b[38;5;28;43mself\u001b[39;49m\u001b[38;5;241;43m.\u001b[39;49m\u001b[43m_inference_function\u001b[49m\u001b[38;5;241;43m.\u001b[39;49m\u001b[43mcall\u001b[49m\u001b[43m(\u001b[49m\n\u001b[0;32m   1863\u001b[0m \u001b[43m      \u001b[49m\u001b[43mctx\u001b[49m\u001b[43m,\u001b[49m\u001b[43m \u001b[49m\u001b[43margs\u001b[49m\u001b[43m,\u001b[49m\u001b[43m \u001b[49m\u001b[43mcancellation_manager\u001b[49m\u001b[38;5;241;43m=\u001b[39;49m\u001b[43mcancellation_manager\u001b[49m\u001b[43m)\u001b[49m)\n\u001b[0;32m   1864\u001b[0m forward_backward \u001b[38;5;241m=\u001b[39m \u001b[38;5;28mself\u001b[39m\u001b[38;5;241m.\u001b[39m_select_forward_and_backward_functions(\n\u001b[0;32m   1865\u001b[0m     args,\n\u001b[0;32m   1866\u001b[0m     possible_gradient_type,\n\u001b[0;32m   1867\u001b[0m     executing_eagerly)\n\u001b[0;32m   1868\u001b[0m forward_function, args_with_tangents \u001b[38;5;241m=\u001b[39m forward_backward\u001b[38;5;241m.\u001b[39mforward()\n",
      "File \u001b[1;32m~\\Documents\\Projects\\computervision\\venv\\lib\\site-packages\\tensorflow\\python\\eager\\function.py:499\u001b[0m, in \u001b[0;36m_EagerDefinedFunction.call\u001b[1;34m(self, ctx, args, cancellation_manager)\u001b[0m\n\u001b[0;32m    497\u001b[0m \u001b[38;5;28;01mwith\u001b[39;00m _InterpolateFunctionError(\u001b[38;5;28mself\u001b[39m):\n\u001b[0;32m    498\u001b[0m   \u001b[38;5;28;01mif\u001b[39;00m cancellation_manager \u001b[38;5;129;01mis\u001b[39;00m \u001b[38;5;28;01mNone\u001b[39;00m:\n\u001b[1;32m--> 499\u001b[0m     outputs \u001b[38;5;241m=\u001b[39m \u001b[43mexecute\u001b[49m\u001b[38;5;241;43m.\u001b[39;49m\u001b[43mexecute\u001b[49m\u001b[43m(\u001b[49m\n\u001b[0;32m    500\u001b[0m \u001b[43m        \u001b[49m\u001b[38;5;28;43mstr\u001b[39;49m\u001b[43m(\u001b[49m\u001b[38;5;28;43mself\u001b[39;49m\u001b[38;5;241;43m.\u001b[39;49m\u001b[43msignature\u001b[49m\u001b[38;5;241;43m.\u001b[39;49m\u001b[43mname\u001b[49m\u001b[43m)\u001b[49m\u001b[43m,\u001b[49m\n\u001b[0;32m    501\u001b[0m \u001b[43m        \u001b[49m\u001b[43mnum_outputs\u001b[49m\u001b[38;5;241;43m=\u001b[39;49m\u001b[38;5;28;43mself\u001b[39;49m\u001b[38;5;241;43m.\u001b[39;49m\u001b[43m_num_outputs\u001b[49m\u001b[43m,\u001b[49m\n\u001b[0;32m    502\u001b[0m \u001b[43m        \u001b[49m\u001b[43minputs\u001b[49m\u001b[38;5;241;43m=\u001b[39;49m\u001b[43margs\u001b[49m\u001b[43m,\u001b[49m\n\u001b[0;32m    503\u001b[0m \u001b[43m        \u001b[49m\u001b[43mattrs\u001b[49m\u001b[38;5;241;43m=\u001b[39;49m\u001b[43mattrs\u001b[49m\u001b[43m,\u001b[49m\n\u001b[0;32m    504\u001b[0m \u001b[43m        \u001b[49m\u001b[43mctx\u001b[49m\u001b[38;5;241;43m=\u001b[39;49m\u001b[43mctx\u001b[49m\u001b[43m)\u001b[49m\n\u001b[0;32m    505\u001b[0m   \u001b[38;5;28;01melse\u001b[39;00m:\n\u001b[0;32m    506\u001b[0m     outputs \u001b[38;5;241m=\u001b[39m execute\u001b[38;5;241m.\u001b[39mexecute_with_cancellation(\n\u001b[0;32m    507\u001b[0m         \u001b[38;5;28mstr\u001b[39m(\u001b[38;5;28mself\u001b[39m\u001b[38;5;241m.\u001b[39msignature\u001b[38;5;241m.\u001b[39mname),\n\u001b[0;32m    508\u001b[0m         num_outputs\u001b[38;5;241m=\u001b[39m\u001b[38;5;28mself\u001b[39m\u001b[38;5;241m.\u001b[39m_num_outputs,\n\u001b[1;32m   (...)\u001b[0m\n\u001b[0;32m    511\u001b[0m         ctx\u001b[38;5;241m=\u001b[39mctx,\n\u001b[0;32m    512\u001b[0m         cancellation_manager\u001b[38;5;241m=\u001b[39mcancellation_manager)\n",
      "File \u001b[1;32m~\\Documents\\Projects\\computervision\\venv\\lib\\site-packages\\tensorflow\\python\\eager\\execute.py:54\u001b[0m, in \u001b[0;36mquick_execute\u001b[1;34m(op_name, num_outputs, inputs, attrs, ctx, name)\u001b[0m\n\u001b[0;32m     52\u001b[0m \u001b[38;5;28;01mtry\u001b[39;00m:\n\u001b[0;32m     53\u001b[0m   ctx\u001b[38;5;241m.\u001b[39mensure_initialized()\n\u001b[1;32m---> 54\u001b[0m   tensors \u001b[38;5;241m=\u001b[39m \u001b[43mpywrap_tfe\u001b[49m\u001b[38;5;241;43m.\u001b[39;49m\u001b[43mTFE_Py_Execute\u001b[49m\u001b[43m(\u001b[49m\u001b[43mctx\u001b[49m\u001b[38;5;241;43m.\u001b[39;49m\u001b[43m_handle\u001b[49m\u001b[43m,\u001b[49m\u001b[43m \u001b[49m\u001b[43mdevice_name\u001b[49m\u001b[43m,\u001b[49m\u001b[43m \u001b[49m\u001b[43mop_name\u001b[49m\u001b[43m,\u001b[49m\n\u001b[0;32m     55\u001b[0m \u001b[43m                                      \u001b[49m\u001b[43minputs\u001b[49m\u001b[43m,\u001b[49m\u001b[43m \u001b[49m\u001b[43mattrs\u001b[49m\u001b[43m,\u001b[49m\u001b[43m \u001b[49m\u001b[43mnum_outputs\u001b[49m\u001b[43m)\u001b[49m\n\u001b[0;32m     56\u001b[0m \u001b[38;5;28;01mexcept\u001b[39;00m core\u001b[38;5;241m.\u001b[39m_NotOkStatusException \u001b[38;5;28;01mas\u001b[39;00m e:\n\u001b[0;32m     57\u001b[0m   \u001b[38;5;28;01mif\u001b[39;00m name \u001b[38;5;129;01mis\u001b[39;00m \u001b[38;5;129;01mnot\u001b[39;00m \u001b[38;5;28;01mNone\u001b[39;00m:\n",
      "\u001b[1;31mKeyboardInterrupt\u001b[0m: "
     ]
    }
   ],
   "source": [
    "file_path = r\"C:\\Users\\MA51801\\Documents\\Projects\\Sudoku_Project\\digit_classifier_model\\digit_classifier_mnist_train.hdf5\"\n",
    "checkpoint = ModelCheckpoint(file_path, monitor='val_accuracy', verbose=1, save_best_only=True, mode='max')\n",
    "with tf.device('/GPU:0'):\n",
    "    training = model.fit(x_train,y_train,epochs = 5 ,validation_data= (x_test,y_test), callbacks=[checkpoint])"
   ]
  },
  {
   "cell_type": "code",
   "execution_count": null,
   "id": "7f9220e2-5eea-4103-87a4-d0390dbe051e",
   "metadata": {},
   "outputs": [],
   "source": []
  },
  {
   "cell_type": "code",
   "execution_count": null,
   "id": "df0f8d13-d679-42e8-b9f5-b5ed928d9673",
   "metadata": {},
   "outputs": [],
   "source": []
  },
  {
   "cell_type": "code",
   "execution_count": null,
   "id": "9c9cc1e1-c9f3-4ab8-9e86-68ca155c6ee6",
   "metadata": {},
   "outputs": [],
   "source": []
  },
  {
   "cell_type": "code",
   "execution_count": null,
   "id": "58cca115-2127-4957-99ed-6c2e7be48663",
   "metadata": {},
   "outputs": [],
   "source": []
  },
  {
   "cell_type": "code",
   "execution_count": 1,
   "id": "d39e245a-03fc-44f0-8966-dac47609c1d0",
   "metadata": {},
   "outputs": [
    {
     "data": {
      "text/plain": [
       "'[1, 2, 3]'"
      ]
     },
     "execution_count": 1,
     "metadata": {},
     "output_type": "execute_result"
    }
   ],
   "source": []
  },
  {
   "cell_type": "markdown",
   "id": "8b478519-a9fd-4b6d-93df-0773be6b0775",
   "metadata": {},
   "source": [
    "# Imports"
   ]
  }
 ],
 "metadata": {
  "kernelspec": {
   "display_name": "computer_vision_2",
   "language": "python",
   "name": "computer_vision_2"
  },
  "language_info": {
   "codemirror_mode": {
    "name": "ipython",
    "version": 3
   },
   "file_extension": ".py",
   "mimetype": "text/x-python",
   "name": "python",
   "nbconvert_exporter": "python",
   "pygments_lexer": "ipython3",
   "version": "3.9.12"
  }
 },
 "nbformat": 4,
 "nbformat_minor": 5
}
