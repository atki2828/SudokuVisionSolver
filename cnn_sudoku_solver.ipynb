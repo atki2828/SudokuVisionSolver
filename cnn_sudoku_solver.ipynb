{
 "cells": [
  {
   "cell_type": "markdown",
   "id": "f375a355-24f1-47dd-9f52-2c5588d9a420",
   "metadata": {},
   "source": [
    "# Imports"
   ]
  },
  {
   "cell_type": "code",
   "execution_count": 3,
   "id": "8e5d1d03-e5b2-4fcf-a65b-c00eb9dde2cf",
   "metadata": {},
   "outputs": [],
   "source": [
    "import pandas as pd\n",
    "import numpy as np\n",
    "import matplotlib.pyplot as plt\n",
    "import os\n",
    "from sklearn.model_selection import train_test_split\n",
    "import tensorflow as tf\n",
    "pd.set_option('display.max_columns', None)"
   ]
  },
  {
   "cell_type": "markdown",
   "id": "19249e5e-64e9-4d0e-bccd-c5fe6c9441ac",
   "metadata": {},
   "source": [
    "# Check Valid Game Functions"
   ]
  },
  {
   "cell_type": "code",
   "execution_count": 4,
   "id": "293aae0b-7eaf-4a88-83d1-0843248defe1",
   "metadata": {},
   "outputs": [],
   "source": [
    "def check_1d(arr):\n",
    "    return np.all(np.sort(arr) == np.arange(1,10))\n",
    "\n",
    "def check_grids(game):\n",
    "    for row_index_start in np.arange(0,7,3):\n",
    "        for col_index_start in np.arange(0,7,3):\n",
    "            check_grid = check_1d(game[row_index_start:row_index_start+3,col_index_start:col_index_start+3].flatten())\n",
    "            if not check_grid:\n",
    "                return False\n",
    "    return True\n",
    "    \n",
    "def check_valid_sudoku(game):\n",
    "    row_check = np.all(np.apply_along_axis(check_1d,axis =1 ,arr= game))\n",
    "    col_check = np.all(np.apply_along_axis(check_1d,axis =0 ,arr= game))\n",
    "    grid_check = check_grids(game)\n",
    "    return np.all([grid_check, row_check, col_check])\n",
    "\n",
    "def check_all_data_set(data_set):\n",
    "    invalid_game_list = []\n",
    "    for i,game in enumerate(data_set.reshape(-1,9,9)):\n",
    "        if not check_valid_sudoku(game):\n",
    "            invalid_game_list.append(i)\n",
    "    if invalid_game_list:\n",
    "        print(f'Invalid Games at Indices {invalid_game_list}')\n",
    "        return False\n",
    "    print('No Invalid Games')\n",
    "    return True\n"
   ]
  },
  {
   "cell_type": "markdown",
   "id": "a576a97a-e9e5-43ca-acf6-a1db0bde99ab",
   "metadata": {},
   "source": [
    "# Model Functions"
   ]
  },
  {
   "cell_type": "code",
   "execution_count": 15,
   "id": "daf2a58a-8130-4c18-895f-e0de8cb99049",
   "metadata": {},
   "outputs": [],
   "source": [
    "def build_model(output_activation = 'softmax', loss = 'sparse_categorical_crossentropy' , learning_rate= 0.001):\n",
    "    inputs = tf.keras.Input(shape=(9, 9, 1))\n",
    "    x = tf.keras.layers.Conv2D(128, 3, activation='relu', padding='same')(inputs)\n",
    "    x = tf.keras.layers.BatchNormalization()(x)\n",
    "    x = tf.keras.layers.Conv2D(128, 3, activation='relu', padding='same')(x)\n",
    "    x = tf.keras.layers.BatchNormalization()(x)\n",
    "    x = tf.keras.layers.Conv2D(256, 3, activation='relu', padding='same')(x)\n",
    "    x = tf.keras.layers.BatchNormalization()(x)\n",
    "    x = tf.keras.layers.Conv2D(256, 3, activation='relu', padding='same')(x)\n",
    "    x = tf.keras.layers.BatchNormalization()(x)\n",
    "    x = tf.keras.layers.Conv2D(512, 3, activation='relu', padding='same')(x)\n",
    "    x = tf.keras.layers.BatchNormalization()(x)\n",
    "    x = tf.keras.layers.Conv2D(512, 3, activation='relu', padding='same')(x)\n",
    "    x = tf.keras.layers.BatchNormalization()(x)\n",
    "    x = tf.keras.layers.Conv2D(1024, 3, activation='relu', padding='same')(x)\n",
    "    x = tf.keras.layers.BatchNormalization()(x)\n",
    "    x = tf.keras.layers.Conv2D(9, 1, activation='relu', padding='same')(x)\n",
    "    x = tf.keras.layers.Flatten()(x)\n",
    "    x = tf.keras.layers.Dense(512)(x)\n",
    "    x = tf.keras.layers.Dense(81*9)(x)\n",
    "    x = tf.keras.layers.LayerNormalization(axis=-1)(x)\n",
    "    x = tf.keras.layers.Reshape((9, 9, 9))(x)\n",
    "    outputs = tf.keras.layers.Activation(output_activation)(x)\n",
    "    model = tf.keras.models.Model(inputs=inputs, outputs=outputs)\n",
    "    model.compile(loss=loss, optimizer=tf.keras.optimizers.Adam(learning_rate=learning_rate), metrics=['accuracy'])\n",
    "    return model"
   ]
  },
  {
   "cell_type": "markdown",
   "id": "37ca8151-2d3b-4ce2-82df-8285e4139f83",
   "metadata": {},
   "source": [
    "# Set Pathing"
   ]
  },
  {
   "cell_type": "code",
   "execution_count": 5,
   "id": "0eac99a8-0edd-485c-bfe8-21fd94cf4ca6",
   "metadata": {},
   "outputs": [],
   "source": [
    "training_games_dir = 'sudoku_games'\n",
    "training_games_file = 'sudoku.csv'\n",
    "training_path = os.path.join(training_games_dir, training_games_file)"
   ]
  },
  {
   "cell_type": "markdown",
   "id": "b338e5b3-9403-4617-a37f-f87aef35ae81",
   "metadata": {},
   "source": [
    "# Read in File"
   ]
  },
  {
   "cell_type": "code",
   "execution_count": 7,
   "id": "f07fa428-820b-4b04-b389-fc0358ff7ab8",
   "metadata": {},
   "outputs": [],
   "source": [
    "sudoku_df = pd.read_csv(training_path)"
   ]
  },
  {
   "cell_type": "code",
   "execution_count": 9,
   "id": "05e1ed9f-673b-4993-98b9-3a8907ec2a7d",
   "metadata": {},
   "outputs": [],
   "source": [
    "X = np.array(sudoku_df.quizzes.map(lambda x: list(map(int, x))).to_list())[0:10_000]\n",
    "y = np.array(sudoku_df.solutions.map(lambda x: list(map(int, x))).to_list())[0:10_000]"
   ]
  },
  {
   "cell_type": "markdown",
   "id": "a8d6d01c-67a4-478b-a0cd-31df6c2c7cb5",
   "metadata": {},
   "source": [
    "# Check Dataset is Full of Valid Solutions"
   ]
  },
  {
   "cell_type": "code",
   "execution_count": 10,
   "id": "10940ea6-660d-4cfe-909d-c30783f4aa47",
   "metadata": {},
   "outputs": [],
   "source": [
    "# np.set_printoptions(threshold=np.inf)\n",
    "test_game = y.reshape(-1,9,9)[0].copy()\n",
    "# test_game[0,0] = 6"
   ]
  },
  {
   "cell_type": "code",
   "execution_count": 11,
   "id": "d4f6e656-9a0d-4e7a-a024-635049dc98c5",
   "metadata": {},
   "outputs": [
    {
     "data": {
      "text/plain": [
       "True"
      ]
     },
     "execution_count": 11,
     "metadata": {},
     "output_type": "execute_result"
    }
   ],
   "source": [
    "check_valid_sudoku(test_game)"
   ]
  },
  {
   "cell_type": "code",
   "execution_count": 9,
   "id": "4f5aa7ca-b253-452f-bc8e-ecb534a5bcce",
   "metadata": {},
   "outputs": [
    {
     "name": "stdout",
     "output_type": "stream",
     "text": [
      "No Invalid Games\n"
     ]
    },
    {
     "data": {
      "text/plain": [
       "True"
      ]
     },
     "execution_count": 9,
     "metadata": {},
     "output_type": "execute_result"
    }
   ],
   "source": [
    "check_all_data_set(y)"
   ]
  },
  {
   "cell_type": "markdown",
   "id": "1e3d1e0c-b739-4378-a95e-1f7fbfe09605",
   "metadata": {},
   "source": [
    "# Reshape Train and Test for CNN"
   ]
  },
  {
   "cell_type": "code",
   "execution_count": 41,
   "id": "5fc0799e-ae8d-44bd-a1ee-702673034e92",
   "metadata": {},
   "outputs": [],
   "source": [
    "X = X.reshape(-1,9,9,1)\n",
    "y = y.reshape(-1,9,9) - 1"
   ]
  },
  {
   "cell_type": "markdown",
   "id": "6fd56f58-b8a0-46df-824d-b9e72f5c040f",
   "metadata": {},
   "source": [
    "# Create Test Train Split"
   ]
  },
  {
   "cell_type": "code",
   "execution_count": 40,
   "id": "277ab2a5-f8c1-4d9c-b80d-0b7f39f8eb40",
   "metadata": {},
   "outputs": [
    {
     "data": {
      "text/plain": [
       "(8000, 9, 9, 1)"
      ]
     },
     "execution_count": 42,
     "metadata": {},
     "output_type": "execute_result"
    }
   ],
   "source": [
    "X_train, X_test, y_train, y_test = train_test_split(X, y, test_size=0.20, random_state=42)\n",
    "X_train.shape"
   ]
  },
  {
   "cell_type": "markdown",
   "id": "067c48ab-b468-4951-ae30-a63009844db8",
   "metadata": {},
   "source": [
    "# Build Model"
   ]
  },
  {
   "cell_type": "code",
   "execution_count": 44,
   "id": "2e079abe-91b8-40ec-9f0b-e0189b605f10",
   "metadata": {},
   "outputs": [
    {
     "name": "stdout",
     "output_type": "stream",
     "text": [
      "Model: \"model_6\"\n",
      "_________________________________________________________________\n",
      " Layer (type)                Output Shape              Param #   \n",
      "=================================================================\n",
      " input_10 (InputLayer)       [(None, 9, 9, 1)]         0         \n",
      "                                                                 \n",
      " conv2d_24 (Conv2D)          (None, 9, 9, 64)          640       \n",
      "                                                                 \n",
      " batch_normalization_23 (Bat  (None, 9, 9, 64)         256       \n",
      " chNormalization)                                                \n",
      "                                                                 \n",
      " conv2d_25 (Conv2D)          (None, 9, 9, 64)          36928     \n",
      "                                                                 \n",
      " batch_normalization_24 (Bat  (None, 9, 9, 64)         256       \n",
      " chNormalization)                                                \n",
      "                                                                 \n",
      " flatten_9 (Flatten)         (None, 5184)              0         \n",
      "                                                                 \n",
      " repeat_vector_6 (RepeatVect  (None, 9, 5184)          0         \n",
      " or)                                                             \n",
      "                                                                 \n",
      " gru_13 (GRU)                (None, 9, 64)             1008000   \n",
      "                                                                 \n",
      " gru_14 (GRU)                (None, 64)                24960     \n",
      "                                                                 \n",
      " dense_9 (Dense)             (None, 81)                5265      \n",
      "                                                                 \n",
      " reshape_8 (Reshape)         (None, 9, 9)              0         \n",
      "                                                                 \n",
      "=================================================================\n",
      "Total params: 1,076,305\n",
      "Trainable params: 1,076,049\n",
      "Non-trainable params: 256\n",
      "_________________________________________________________________\n"
     ]
    }
   ],
   "source": [
    "model = build_model()\n",
    "model.summary()"
   ]
  },
  {
   "cell_type": "markdown",
   "id": "91b398df-7ab4-4ab3-9c19-475cb80ea646",
   "metadata": {},
   "source": [
    "# Train Model"
   ]
  },
  {
   "cell_type": "code",
   "execution_count": 45,
   "id": "74a8262b-90c4-44c9-81de-69eeef110651",
   "metadata": {},
   "outputs": [
    {
     "name": "stdout",
     "output_type": "stream",
     "text": [
      "Epoch 1/10\n"
     ]
    },
    {
     "ename": "ValueError",
     "evalue": "in user code:\n\n    File \"C:\\Users\\MA51801\\Documents\\Projects\\computervision\\venv\\lib\\site-packages\\keras\\engine\\training.py\", line 1160, in train_function  *\n        return step_function(self, iterator)\n    File \"C:\\Users\\MA51801\\Documents\\Projects\\computervision\\venv\\lib\\site-packages\\keras\\engine\\training.py\", line 1146, in step_function  **\n        outputs = model.distribute_strategy.run(run_step, args=(data,))\n    File \"C:\\Users\\MA51801\\Documents\\Projects\\computervision\\venv\\lib\\site-packages\\keras\\engine\\training.py\", line 1135, in run_step  **\n        outputs = model.train_step(data)\n    File \"C:\\Users\\MA51801\\Documents\\Projects\\computervision\\venv\\lib\\site-packages\\keras\\engine\\training.py\", line 994, in train_step\n        loss = self.compute_loss(x, y, y_pred, sample_weight)\n    File \"C:\\Users\\MA51801\\Documents\\Projects\\computervision\\venv\\lib\\site-packages\\keras\\engine\\training.py\", line 1052, in compute_loss\n        return self.compiled_loss(\n    File \"C:\\Users\\MA51801\\Documents\\Projects\\computervision\\venv\\lib\\site-packages\\keras\\engine\\compile_utils.py\", line 265, in __call__\n        loss_value = loss_obj(y_t, y_p, sample_weight=sw)\n    File \"C:\\Users\\MA51801\\Documents\\Projects\\computervision\\venv\\lib\\site-packages\\keras\\losses.py\", line 152, in __call__\n        losses = call_fn(y_true, y_pred)\n    File \"C:\\Users\\MA51801\\Documents\\Projects\\computervision\\venv\\lib\\site-packages\\keras\\losses.py\", line 272, in call  **\n        return ag_fn(y_true, y_pred, **self._fn_kwargs)\n    File \"C:\\Users\\MA51801\\Documents\\Projects\\computervision\\venv\\lib\\site-packages\\keras\\losses.py\", line 2084, in sparse_categorical_crossentropy\n        return backend.sparse_categorical_crossentropy(\n    File \"C:\\Users\\MA51801\\Documents\\Projects\\computervision\\venv\\lib\\site-packages\\keras\\backend.py\", line 5630, in sparse_categorical_crossentropy\n        res = tf.nn.sparse_softmax_cross_entropy_with_logits(\n\n    ValueError: `labels.shape` must equal `logits.shape` except for the last dimension. Received: labels.shape=(5184,) and logits.shape=(576, 9)\n",
     "output_type": "error",
     "traceback": [
      "\u001b[1;31m---------------------------------------------------------------------------\u001b[0m",
      "\u001b[1;31mValueError\u001b[0m                                Traceback (most recent call last)",
      "Cell \u001b[1;32mIn [45], line 14\u001b[0m\n\u001b[0;32m     12\u001b[0m early_stop \u001b[38;5;241m=\u001b[39m tf\u001b[38;5;241m.\u001b[39mkeras\u001b[38;5;241m.\u001b[39mcallbacks\u001b[38;5;241m.\u001b[39mEarlyStopping(monitor\u001b[38;5;241m=\u001b[39m\u001b[38;5;124m'\u001b[39m\u001b[38;5;124mval_loss\u001b[39m\u001b[38;5;124m'\u001b[39m, patience\u001b[38;5;241m=\u001b[39m\u001b[38;5;241m10\u001b[39m)\n\u001b[0;32m     13\u001b[0m \u001b[38;5;28;01mwith\u001b[39;00m tf\u001b[38;5;241m.\u001b[39mdevice(\u001b[38;5;124m'\u001b[39m\u001b[38;5;124m/GPU:0\u001b[39m\u001b[38;5;124m'\u001b[39m):\n\u001b[1;32m---> 14\u001b[0m     history \u001b[38;5;241m=\u001b[39m \u001b[43mmodel\u001b[49m\u001b[38;5;241;43m.\u001b[39;49m\u001b[43mfit\u001b[49m\u001b[43m(\u001b[49m\u001b[43mX_train\u001b[49m\u001b[43m,\u001b[49m\u001b[43my_train\u001b[49m\u001b[43m,\u001b[49m\u001b[43m \u001b[49m\u001b[43mepochs\u001b[49m\u001b[38;5;241;43m=\u001b[39;49m\u001b[38;5;241;43m10\u001b[39;49m\u001b[43m,\u001b[49m\u001b[43mverbose\u001b[49m\u001b[38;5;241;43m=\u001b[39;49m\u001b[38;5;241;43m2\u001b[39;49m\u001b[43m,\u001b[49m\u001b[43mbatch_size\u001b[49m\u001b[38;5;241;43m=\u001b[39;49m\u001b[38;5;241;43m64\u001b[39;49m\u001b[43m,\u001b[49m\u001b[43mvalidation_data\u001b[49m\u001b[43m \u001b[49m\u001b[38;5;241;43m=\u001b[39;49m\u001b[43m \u001b[49m\u001b[43m(\u001b[49m\u001b[43mX_test\u001b[49m\u001b[43m,\u001b[49m\u001b[43my_test\u001b[49m\u001b[43m)\u001b[49m\u001b[43m,\u001b[49m\u001b[43mcallbacks\u001b[49m\u001b[38;5;241;43m=\u001b[39;49m\u001b[43m[\u001b[49m\u001b[43mcheckpoint_callback\u001b[49m\u001b[43m,\u001b[49m\u001b[43mearly_stop\u001b[49m\u001b[43m]\u001b[49m\u001b[43m)\u001b[49m\n",
      "File \u001b[1;32m~\\Documents\\Projects\\computervision\\venv\\lib\\site-packages\\keras\\utils\\traceback_utils.py:70\u001b[0m, in \u001b[0;36mfilter_traceback.<locals>.error_handler\u001b[1;34m(*args, **kwargs)\u001b[0m\n\u001b[0;32m     67\u001b[0m     filtered_tb \u001b[38;5;241m=\u001b[39m _process_traceback_frames(e\u001b[38;5;241m.\u001b[39m__traceback__)\n\u001b[0;32m     68\u001b[0m     \u001b[38;5;66;03m# To get the full stack trace, call:\u001b[39;00m\n\u001b[0;32m     69\u001b[0m     \u001b[38;5;66;03m# `tf.debugging.disable_traceback_filtering()`\u001b[39;00m\n\u001b[1;32m---> 70\u001b[0m     \u001b[38;5;28;01mraise\u001b[39;00m e\u001b[38;5;241m.\u001b[39mwith_traceback(filtered_tb) \u001b[38;5;28;01mfrom\u001b[39;00m \u001b[38;5;28mNone\u001b[39m\n\u001b[0;32m     71\u001b[0m \u001b[38;5;28;01mfinally\u001b[39;00m:\n\u001b[0;32m     72\u001b[0m     \u001b[38;5;28;01mdel\u001b[39;00m filtered_tb\n",
      "File \u001b[1;32m~\\AppData\\Local\\Temp\\__autograph_generated_file106ehk4s.py:15\u001b[0m, in \u001b[0;36mouter_factory.<locals>.inner_factory.<locals>.tf__train_function\u001b[1;34m(iterator)\u001b[0m\n\u001b[0;32m     13\u001b[0m \u001b[38;5;28;01mtry\u001b[39;00m:\n\u001b[0;32m     14\u001b[0m     do_return \u001b[38;5;241m=\u001b[39m \u001b[38;5;28;01mTrue\u001b[39;00m\n\u001b[1;32m---> 15\u001b[0m     retval_ \u001b[38;5;241m=\u001b[39m ag__\u001b[38;5;241m.\u001b[39mconverted_call(ag__\u001b[38;5;241m.\u001b[39mld(step_function), (ag__\u001b[38;5;241m.\u001b[39mld(\u001b[38;5;28mself\u001b[39m), ag__\u001b[38;5;241m.\u001b[39mld(iterator)), \u001b[38;5;28;01mNone\u001b[39;00m, fscope)\n\u001b[0;32m     16\u001b[0m \u001b[38;5;28;01mexcept\u001b[39;00m:\n\u001b[0;32m     17\u001b[0m     do_return \u001b[38;5;241m=\u001b[39m \u001b[38;5;28;01mFalse\u001b[39;00m\n",
      "\u001b[1;31mValueError\u001b[0m: in user code:\n\n    File \"C:\\Users\\MA51801\\Documents\\Projects\\computervision\\venv\\lib\\site-packages\\keras\\engine\\training.py\", line 1160, in train_function  *\n        return step_function(self, iterator)\n    File \"C:\\Users\\MA51801\\Documents\\Projects\\computervision\\venv\\lib\\site-packages\\keras\\engine\\training.py\", line 1146, in step_function  **\n        outputs = model.distribute_strategy.run(run_step, args=(data,))\n    File \"C:\\Users\\MA51801\\Documents\\Projects\\computervision\\venv\\lib\\site-packages\\keras\\engine\\training.py\", line 1135, in run_step  **\n        outputs = model.train_step(data)\n    File \"C:\\Users\\MA51801\\Documents\\Projects\\computervision\\venv\\lib\\site-packages\\keras\\engine\\training.py\", line 994, in train_step\n        loss = self.compute_loss(x, y, y_pred, sample_weight)\n    File \"C:\\Users\\MA51801\\Documents\\Projects\\computervision\\venv\\lib\\site-packages\\keras\\engine\\training.py\", line 1052, in compute_loss\n        return self.compiled_loss(\n    File \"C:\\Users\\MA51801\\Documents\\Projects\\computervision\\venv\\lib\\site-packages\\keras\\engine\\compile_utils.py\", line 265, in __call__\n        loss_value = loss_obj(y_t, y_p, sample_weight=sw)\n    File \"C:\\Users\\MA51801\\Documents\\Projects\\computervision\\venv\\lib\\site-packages\\keras\\losses.py\", line 152, in __call__\n        losses = call_fn(y_true, y_pred)\n    File \"C:\\Users\\MA51801\\Documents\\Projects\\computervision\\venv\\lib\\site-packages\\keras\\losses.py\", line 272, in call  **\n        return ag_fn(y_true, y_pred, **self._fn_kwargs)\n    File \"C:\\Users\\MA51801\\Documents\\Projects\\computervision\\venv\\lib\\site-packages\\keras\\losses.py\", line 2084, in sparse_categorical_crossentropy\n        return backend.sparse_categorical_crossentropy(\n    File \"C:\\Users\\MA51801\\Documents\\Projects\\computervision\\venv\\lib\\site-packages\\keras\\backend.py\", line 5630, in sparse_categorical_crossentropy\n        res = tf.nn.sparse_softmax_cross_entropy_with_logits(\n\n    ValueError: `labels.shape` must equal `logits.shape` except for the last dimension. Received: labels.shape=(5184,) and logits.shape=(576, 9)\n"
     ]
    }
   ],
   "source": [
    "checkpoint_dir = os.path.join(os.getcwd(),'sudoku_solver_models')\n",
    "checkpoint_path = os.path.join(checkpoint_dir,'best_sudoku_solver_test_training_cnn_test.h5')\n",
    "\n",
    "checkpoint_callback = tf.keras.callbacks.ModelCheckpoint(\n",
    "    filepath=checkpoint_path,\n",
    "    save_weights_only=False,\n",
    "    monitor='val_accuracy',\n",
    "    mode='max',\n",
    "    save_best_only=True,\n",
    "    verbose=1\n",
    ")\n",
    "early_stop = tf.keras.callbacks.EarlyStopping(monitor='val_loss', patience=10)\n",
    "with tf.device('/GPU:0'):\n",
    "    history = model.fit(X_train,y_train, epochs=10,verbose=2,batch_size=64,validation_data = (X_test,y_test),callbacks=[checkpoint_callback,early_stop])"
   ]
  },
  {
   "cell_type": "code",
   "execution_count": 20,
   "id": "74454f60-b39b-4386-bda4-0e4e6c6310a2",
   "metadata": {},
   "outputs": [
    {
     "data": {
      "text/plain": [
       "array([[0, 1, 6, 9, 0, 4, 0, 0, 7],\n",
       "       [0, 0, 4, 0, 3, 0, 0, 8, 0],\n",
       "       [0, 0, 3, 0, 6, 1, 9, 2, 0],\n",
       "       [5, 0, 9, 1, 4, 0, 8, 0, 0],\n",
       "       [1, 7, 0, 0, 0, 0, 0, 0, 0],\n",
       "       [0, 0, 8, 7, 0, 0, 0, 6, 5],\n",
       "       [6, 0, 0, 0, 0, 2, 0, 4, 0],\n",
       "       [0, 2, 0, 8, 0, 5, 3, 1, 0],\n",
       "       [0, 3, 0, 0, 0, 0, 0, 0, 9]])"
      ]
     },
     "execution_count": 20,
     "metadata": {},
     "output_type": "execute_result"
    }
   ],
   "source": [
    "X_test[1].reshape(9,9)"
   ]
  },
  {
   "cell_type": "code",
   "execution_count": 21,
   "id": "313fdf2b-fa3a-45ea-9364-cdcb7c10a770",
   "metadata": {},
   "outputs": [
    {
     "data": {
      "text/plain": [
       "array([[2, 1, 6, 9, 8, 4, 5, 3, 7],\n",
       "       [9, 5, 4, 2, 3, 7, 6, 8, 1],\n",
       "       [7, 8, 3, 5, 6, 1, 9, 2, 4],\n",
       "       [5, 6, 9, 1, 4, 3, 8, 7, 2],\n",
       "       [1, 7, 2, 6, 5, 8, 4, 9, 3],\n",
       "       [3, 4, 8, 7, 2, 9, 1, 6, 5],\n",
       "       [6, 9, 5, 3, 1, 2, 7, 4, 8],\n",
       "       [4, 2, 7, 8, 9, 5, 3, 1, 6],\n",
       "       [8, 3, 1, 4, 7, 6, 2, 5, 9]])"
      ]
     },
     "execution_count": 21,
     "metadata": {},
     "output_type": "execute_result"
    }
   ],
   "source": [
    "y_test[1].reshape(9,9) + 1"
   ]
  },
  {
   "cell_type": "code",
   "execution_count": 22,
   "id": "3256a42b-5359-43a7-a715-4093353c62d7",
   "metadata": {},
   "outputs": [
    {
     "name": "stdout",
     "output_type": "stream",
     "text": [
      "1/1 [==============================] - 0s 49ms/step\n"
     ]
    }
   ],
   "source": [
    "sol = model.predict(X_test[1].reshape(1, 9, 9, 1)).argmax(-1).squeeze()+1"
   ]
  },
  {
   "cell_type": "code",
   "execution_count": 23,
   "id": "1589cd14-afbd-491c-8739-1ca538815f97",
   "metadata": {},
   "outputs": [
    {
     "data": {
      "text/plain": [
       "array([[2, 1, 6, 9, 8, 4, 5, 3, 7],\n",
       "       [7, 5, 4, 2, 3, 7, 6, 8, 1],\n",
       "       [7, 8, 3, 5, 6, 1, 9, 2, 4],\n",
       "       [5, 6, 9, 1, 4, 3, 8, 7, 2],\n",
       "       [1, 7, 2, 6, 5, 8, 4, 9, 3],\n",
       "       [3, 4, 8, 7, 2, 9, 1, 6, 5],\n",
       "       [6, 9, 1, 3, 9, 2, 7, 4, 8],\n",
       "       [4, 2, 7, 8, 9, 5, 3, 1, 6],\n",
       "       [8, 3, 5, 4, 1, 6, 2, 5, 9]], dtype=int64)"
      ]
     },
     "execution_count": 23,
     "metadata": {},
     "output_type": "execute_result"
    }
   ],
   "source": [
    "sol"
   ]
  },
  {
   "cell_type": "code",
   "execution_count": 24,
   "id": "52795cfd-ef20-4312-97a8-b1471d5acd6f",
   "metadata": {},
   "outputs": [
    {
     "data": {
      "text/plain": [
       "False"
      ]
     },
     "execution_count": 24,
     "metadata": {},
     "output_type": "execute_result"
    }
   ],
   "source": [
    "check_valid_sudoku(sol)"
   ]
  },
  {
   "cell_type": "code",
   "execution_count": 49,
   "id": "f0462bab-0492-4586-8c35-584e87493dc6",
   "metadata": {},
   "outputs": [
    {
     "data": {
      "text/plain": [
       "array([[[0],\n",
       "        [2],\n",
       "        [5],\n",
       "        [4],\n",
       "        [6],\n",
       "        [3],\n",
       "        [0],\n",
       "        [0],\n",
       "        [0]],\n",
       "\n",
       "       [[0],\n",
       "        [0],\n",
       "        [0],\n",
       "        [0],\n",
       "        [0],\n",
       "        [0],\n",
       "        [0],\n",
       "        [1],\n",
       "        [0]],\n",
       "\n",
       "       [[0],\n",
       "        [0],\n",
       "        [7],\n",
       "        [0],\n",
       "        [0],\n",
       "        [0],\n",
       "        [6],\n",
       "        [0],\n",
       "        [2]],\n",
       "\n",
       "       [[0],\n",
       "        [3],\n",
       "        [1],\n",
       "        [0],\n",
       "        [0],\n",
       "        [7],\n",
       "        [0],\n",
       "        [0],\n",
       "        [4]],\n",
       "\n",
       "       [[9],\n",
       "        [8],\n",
       "        [0],\n",
       "        [0],\n",
       "        [5],\n",
       "        [4],\n",
       "        [1],\n",
       "        [2],\n",
       "        [0]],\n",
       "\n",
       "       [[0],\n",
       "        [0],\n",
       "        [0],\n",
       "        [9],\n",
       "        [0],\n",
       "        [0],\n",
       "        [0],\n",
       "        [8],\n",
       "        [3]],\n",
       "\n",
       "       [[4],\n",
       "        [0],\n",
       "        [0],\n",
       "        [1],\n",
       "        [2],\n",
       "        [0],\n",
       "        [3],\n",
       "        [0],\n",
       "        [6]],\n",
       "\n",
       "       [[3],\n",
       "        [0],\n",
       "        [0],\n",
       "        [0],\n",
       "        [0],\n",
       "        [0],\n",
       "        [8],\n",
       "        [5],\n",
       "        [0]],\n",
       "\n",
       "       [[7],\n",
       "        [0],\n",
       "        [0],\n",
       "        [6],\n",
       "        [0],\n",
       "        [0],\n",
       "        [0],\n",
       "        [4],\n",
       "        [9]]])"
      ]
     },
     "execution_count": 49,
     "metadata": {},
     "output_type": "execute_result"
    }
   ],
   "source": [
    "X_test[1]"
   ]
  },
  {
   "cell_type": "code",
   "execution_count": null,
   "id": "d96a3d0e-f33c-464b-9eb3-b96c29f81db9",
   "metadata": {},
   "outputs": [],
   "source": []
  },
  {
   "cell_type": "markdown",
   "id": "2f8fd036-bac9-4ad8-924f-2be73dfa20d3",
   "metadata": {},
   "source": [
    "# Imports"
   ]
  }
 ],
 "metadata": {
  "kernelspec": {
   "display_name": "computer_vision_2",
   "language": "python",
   "name": "computer_vision_2"
  },
  "language_info": {
   "codemirror_mode": {
    "name": "ipython",
    "version": 3
   },
   "file_extension": ".py",
   "mimetype": "text/x-python",
   "name": "python",
   "nbconvert_exporter": "python",
   "pygments_lexer": "ipython3",
   "version": "3.9.12"
  }
 },
 "nbformat": 4,
 "nbformat_minor": 5
}
